{
 "cells": [
  {
   "cell_type": "code",
   "execution_count": null,
   "metadata": {},
   "outputs": [],
   "source": [
    "## This file is part of Jax Geometry\n",
    "#\n",
    "# Copyright (C) 2021, Stefan Sommer (sommer@di.ku.dk)\n",
    "# https://bitbucket.org/stefansommer/jaxgeometry\n",
    "#\n",
    "# Jax Geometry is free software: you can redistribute it and/or modify\n",
    "# it under the terms of the GNU General Public License as published by\n",
    "# the Free Software Foundation, either version 3 of the License, or\n",
    "# (at your option) any later version.\n",
    "#\n",
    "# Jax Geometry is distributed in the hope that it will be useful,\n",
    "# but WITHOUT ANY WARRANTY; without even the implied warranty of\n",
    "# MERCHANTABILITY or FITNESS FOR A PARTICULAR PURPOSE.  See the\n",
    "# GNU General Public License for more details.\n",
    "#\n",
    "# You should have received a copy of the GNU General Public License\n",
    "# along with Jax Geometry. If not, see <http://www.gnu.org/licenses/>.\n",
    "#"
   ]
  },
  {
   "cell_type": "markdown",
   "metadata": {
    "collapsed": true
   },
   "source": [
    "# Manifold Statistics - Examples on $\\mathbb{S}^2$"
   ]
  },
  {
   "cell_type": "code",
   "execution_count": null,
   "metadata": {},
   "outputs": [],
   "source": [
    "%load_ext autoreload\n",
    "%autoreload 2"
   ]
  },
  {
   "cell_type": "code",
   "execution_count": null,
   "metadata": {},
   "outputs": [],
   "source": [
    "from src.manifolds.S2 import *\n",
    "M = S2()\n",
    "print(M)\n",
    "from src.plotting import *\n",
    "#%matplotlib notebook"
   ]
  },
  {
   "cell_type": "code",
   "execution_count": null,
   "metadata": {},
   "outputs": [],
   "source": [
    "# Riemannian structure\n",
    "from src.Riemannian import metric\n",
    "metric.initialize(M)\n",
    "\n",
    "# geodesics\n",
    "from src.Riemannian import geodesic\n",
    "geodesic.initialize(M)\n",
    "\n",
    "# Logarithm map\n",
    "from src.Riemannian import Log\n",
    "Log.initialize(M)"
   ]
  },
  {
   "cell_type": "markdown",
   "metadata": {},
   "source": [
    "## Sample Data"
   ]
  },
  {
   "cell_type": "code",
   "execution_count": null,
   "metadata": {
    "scrolled": false
   },
   "outputs": [],
   "source": [
    "# coordinate form\n",
    "from src.stochastics import Brownian_coords\n",
    "Brownian_coords.initialize(M)\n",
    "\n",
    "# product sde\n",
    "from src.stochastics import sde_product\n",
    "sde_product.initialize(M,M.sde_Brownian_coords,M.chart_update_Brownian_coords)\n",
    "\n",
    "x = M.coords(jnp.zeros(M.dim))\n",
    "\n",
    "N = 3\n",
    "_dts = dts(T=.5)\n",
    "(ts,xss,chartss) = M.product((jnp.tile(x[0],(N,)+(1,)*x[0].ndim),jnp.tile(x[1],(N,)+(1,)*x[1].ndim)),\n",
    "                             _dts,dWs(N*M.dim,_dts).reshape(-1,N,M.dim))\n",
    "samples = xss[-1]\n",
    "chartss = chartss[-1]    \n",
    "\n",
    "# plot\n",
    "newfig()\n",
    "M.plot()\n",
    "for i in range(N):\n",
    "    M.plotx((samples[i],chartss[i]))\n",
    "plt.show()"
   ]
  },
  {
   "cell_type": "markdown",
   "metadata": {},
   "source": [
    "## Frechet mean"
   ]
  },
  {
   "cell_type": "code",
   "execution_count": null,
   "metadata": {
    "scrolled": false
   },
   "outputs": [],
   "source": [
    "from src.statistics.Frechet_mean import *\n",
    "\n",
    "res = Frechet_mean(lambda *args: M.Log(*args), zip(samples,chartss), x)\n",
    "Fm = res[0]\n",
    "print(\"loss = \", res[1])\n",
    "print(\"mean = \", Fm)\n",
    "iterations = res[2]\n",
    "\n",
    "newfig()\n",
    "M.plot(rotate = np.array([50,-45]))\n",
    "M.plotx(Fm)\n",
    "M.plot_path(zip(iterations,itertools.cycle((x[1],))))\n",
    "plt.show()"
   ]
  },
  {
   "cell_type": "markdown",
   "metadata": {},
   "source": [
    "## Tangent PCA"
   ]
  },
  {
   "cell_type": "code",
   "execution_count": null,
   "metadata": {
    "scrolled": false
   },
   "outputs": [],
   "source": [
    "from src.statistics.tangent_PCA import *\n",
    "\n",
    "from src.utils import *\n",
    "from sklearn.decomposition import PCA\n",
    "\n",
    "pca = tangent_PCA(M, lambda *args: M.Log(*args),x,zip(samples,chartss))\n",
    "print(pca.get_covariance())\n",
    "\n",
    "plt.scatter(pca.transformed_Logs[:, 0], pca.transformed_Logs[:, 1])\n",
    "plt.axis('equal')\n",
    "plt.show()"
   ]
  },
  {
   "cell_type": "markdown",
   "metadata": {},
   "source": [
    "## sampled mean"
   ]
  },
  {
   "cell_type": "code",
   "execution_count": null,
   "metadata": {
    "scrolled": false
   },
   "outputs": [],
   "source": [
    "# condition on diagonal of product manifold\n",
    "from src.stochastics import diagonal_conditioning\n",
    "diagonal_conditioning.initialize(M,M.sde_product,M.chart_update_product)\n",
    "\n",
    "_dts = dts(n_steps=500,T=.1)\n",
    "(ts,xss,_chartss) = M.diagonal((samples,chartss),\n",
    "                             _dts,dWs(N*M.dim,_dts).reshape(-1,N,M.dim),x[1])\n",
    "mean = jnp.mean(jax.vmap(lambda _x,chart: M.update_coords((_x,chart),x[1])[0],0)(xss[-1],_chartss[-1]),0)\n",
    "\n",
    "# plot\n",
    "M.newfig()\n",
    "M.plot()\n",
    "colormap = plt.get_cmap('winter')\n",
    "colors=[colormap(k) for k in np.linspace(0, 1, N)]\n",
    "for i in range(N):\n",
    "    M.plot_path(zip(xss[:,i],_chartss[:,i]),color=colors[i])\n",
    "    M.plotx((samples[i],chartss[i]),s=40)\n",
    "M.plotx((mean,x[1]),color='r',s=80)\n",
    "ax = plt.gcf().gca(); ax.view_init(60, 45) # rotate\n",
    "plt.axis('off')\n",
    "# plt.savefig('diagonal-mean-N3.pdf')\n",
    "plt.show()"
   ]
  },
  {
   "cell_type": "code",
   "execution_count": null,
   "metadata": {
    "scrolled": false
   },
   "outputs": [],
   "source": [
    "# samples\n",
    "N = 256\n",
    "_dts = dts(T=.5)\n",
    "(ts,xss,chartss) = M.product((jnp.tile(x[0],(N,)+(1,)*x[0].ndim),jnp.tile(x[1],(N,)+(1,)*x[1].ndim)),\n",
    "                             _dts,dWs(N*M.dim,_dts).reshape(-1,N,M.dim))\n",
    "samples = xss[-1]\n",
    "chartss = chartss[-1]    \n",
    "# plot\n",
    "newfig()\n",
    "M.plot()\n",
    "for i in range(N):\n",
    "    M.plotx((samples[i],chartss[i]))\n",
    "ax = plt.gcf().gca(); ax.view_init(60, 45) # rotate\n",
    "plt.axis('off')\n",
    "# plt.savefig('diagonal-samples-N256.pdf')\n",
    "plt.show()\n",
    "\n",
    "# sample multiple means\n",
    "K = 32\n",
    "means = np.zeros((K,M.dim))\n",
    "\n",
    "_dts = dts(T=.2)\n",
    "for i in range(K):\n",
    "    (ts,xss,_chartss) = M.diagonal((samples,chartss),\n",
    "                             _dts,dWs(N*M.dim,_dts).reshape(-1,N,M.dim),x[1])\n",
    "    means[i] = jnp.mean(jax.vmap(lambda _x,chart: M.update_coords((_x,chart),x[1])[0],0)(xss[-1],_chartss[-1]),0)\n",
    "    \n",
    "colormap = plt.get_cmap('winter')\n",
    "colors=[colormap(k) for k in np.linspace(0, 1, K)]\n",
    "\n",
    "# plot estimated means with std variation\n",
    "M.newfig()\n",
    "M.plot()\n",
    "ax = plt.gca()\n",
    "for j in range(K):\n",
    "    M.plotx((means[j],x[1]),color=colors[j],s=30)\n",
    "ax = plt.gcf().gca(); ax.view_init(60, 45) # rotate\n",
    "plt.axis('off')\n",
    "# plt.savefig('diagonal-mean-N256.pdf')\n",
    "plt.show()"
   ]
  },
  {
   "cell_type": "code",
   "execution_count": null,
   "metadata": {},
   "outputs": [],
   "source": []
  }
 ],
 "metadata": {
  "kernelspec": {
   "display_name": "Python 3 (ipykernel)",
   "language": "python",
   "name": "python3"
  },
  "language_info": {
   "codemirror_mode": {
    "name": "ipython",
    "version": 3
   },
   "file_extension": ".py",
   "mimetype": "text/x-python",
   "name": "python",
   "nbconvert_exporter": "python",
   "pygments_lexer": "ipython3",
   "version": "3.9.7"
  }
 },
 "nbformat": 4,
 "nbformat_minor": 2
}
