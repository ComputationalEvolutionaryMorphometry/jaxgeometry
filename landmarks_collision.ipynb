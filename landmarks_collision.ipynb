{
 "cells": [
  {
   "cell_type": "code",
   "execution_count": null,
   "metadata": {
    "scrolled": true
   },
   "outputs": [],
   "source": [
    "# # This file is part of Theano Geometry\n",
    "#\n",
    "# Copyright (C) 2017, Stefan Sommer (sommer@di.ku.dk)\n",
    "# https://bitbucket.org/stefansommer/theanogemetry\n",
    "#\n",
    "# Theano Geometry is free software: you can redistribute it and/or modify\n",
    "# it under the terms of the GNU General Public License as published by\n",
    "# the Free Software Foundation, either version 3 of the License, or\n",
    "# (at your option) any later version.\n",
    "#\n",
    "# Theano Geometry is distributed in the hope that it will be useful,\n",
    "# but WITHOUT ANY WARRANTY; without even the implied warranty of\n",
    "# MERCHANTABILITY or FITNESS FOR A PARTICULAR PURPOSE.  See the\n",
    "# GNU General Public License for more details.\n",
    "#\n",
    "# You should have received a copy of the GNU General Public License\n",
    "# along with Theano Geometry. If not, see <http://www.gnu.org/licenses/>.\n",
    "#"
   ]
  },
  {
   "cell_type": "markdown",
   "metadata": {},
   "source": [
    "# LDDMM landmark stochastics and (possible) collision"
   ]
  },
  {
   "cell_type": "code",
   "execution_count": null,
   "metadata": {},
   "outputs": [],
   "source": [
    "%load_ext autoreload\n",
    "%autoreload 2"
   ]
  },
  {
   "cell_type": "code",
   "execution_count": null,
   "metadata": {
    "scrolled": false
   },
   "outputs": [],
   "source": [
    "from src.manifolds.landmarks import *\n",
    "M = landmarks(4)\n",
    "print(M)\n",
    "from src.plotting import *\n",
    "\n",
    "from matplotlib.collections import LineCollection\n",
    "from matplotlib.colors import ListedColormap, BoundaryNorm"
   ]
  },
  {
   "cell_type": "code",
   "execution_count": null,
   "metadata": {},
   "outputs": [],
   "source": [
    "# Riemannian structure\n",
    "from src.Riemannian import metric\n",
    "metric.initialize(M)"
   ]
  },
  {
   "cell_type": "code",
   "execution_count": null,
   "metadata": {
    "scrolled": false
   },
   "outputs": [],
   "source": [
    "# example configuration\n",
    "M.k_sigma = jnp.diag(jnp.array([.5,.5]))\n",
    "n_steps = 5000"
   ]
  },
  {
   "cell_type": "markdown",
   "metadata": {},
   "source": [
    "## Brownian Motion"
   ]
  },
  {
   "cell_type": "code",
   "execution_count": null,
   "metadata": {
    "scrolled": false
   },
   "outputs": [],
   "source": [
    "# coordinate form\n",
    "from src.stochastics import Brownian_coords\n",
    "Brownian_coords.initialize(M)\n",
    "\n",
    "q = M.coords(jnp.vstack((np.linspace(-.5,.5,M.N),np.zeros(M.N))).T.flatten())\n",
    "\n",
    "(ts,xs,charts) = M.Brownian_coords(q,dWs(M.dim,n_steps=n_steps))\n",
    "\n",
    "# plot\n",
    "M.newfig()\n",
    "M.plot()\n",
    "M.plot_path(zip(xs,charts))\n",
    "plt.show()\n",
    "\n",
    "# plot multiple sample paths\n",
    "N = 5\n",
    "xss = np.zeros((N,n_steps,M.dim))\n",
    "chartss = np.zeros((N,xs.shape[0],q[1].shape[0]))\n",
    "for i in range(N):\n",
    "    (ts,xs,charts) = M.Brownian_coords(q,dWs(M.dim,n_steps=n_steps))\n",
    "    xss[i] = xs\n",
    "    chartss[i] = charts\n",
    "\n",
    "# plot\n",
    "M.newfig()\n",
    "M.plot()\n",
    "colormap = plt.get_cmap('winter')\n",
    "colors=[colormap(k) for k in np.linspace(0, 1, N)]\n",
    "for i in range(N):\n",
    "    M.plot_path(zip(xss[i],chartss[i]),color=colors[i])\n",
    "M.plotx(q,color='r')\n",
    "plt.show()"
   ]
  },
  {
   "cell_type": "markdown",
   "metadata": {},
   "source": [
    "# Simulations in various dimensions"
   ]
  },
  {
   "cell_type": "code",
   "execution_count": null,
   "metadata": {
    "scrolled": false
   },
   "outputs": [],
   "source": [
    "def simBrownianN2(d,N):\n",
    "    M.setdim(d,jnp.diag(jnp.array([.5]*d)))\n",
    "    M.setN(2)\n",
    "\n",
    "    q = M.coords(jnp.vstack((np.linspace(-.5,.5,M.N),jnp.zeros((d-1,M.N)))).T.flatten())\n",
    "\n",
    "    # generate multiple sample paths\n",
    "    xss = np.zeros((N,n_steps,M.dim))\n",
    "    chartss = np.zeros((N,n_steps,q[1].shape[0]))\n",
    "    for i in range(N):\n",
    "        (ts,xs,charts) = M.Brownian_coords(q,dWs(M.dim,n_steps=n_steps))\n",
    "        xss[i] = xs\n",
    "        chartss[i] = charts\n",
    "\n",
    "    # plot\n",
    "    colormap = plt.get_cmap('winter')\n",
    "    colors=[colormap(k) for k in np.linspace(0, 1, N)]\n",
    "#     if d == 1:\n",
    "#         M.newfig()\n",
    "#         M.plot()\n",
    "#         for i in range(N):\n",
    "#             plt.plot(xss[i][:,0],xss[i][:,1],color=colors[i])\n",
    "#         plt.plot(q[0][0],q[0][1],'o',color='r',markersize=10)\n",
    "#         plt.show()\n",
    "#     elif d == 2:\n",
    "#         # plot\n",
    "#         M.newfig()\n",
    "#         M.plot()\n",
    "#         for i in range(N):\n",
    "#             M.plot_path(zip(xss[i],chartss[i]),color=colors[i])\n",
    "#         M.plotx(q,color='r')\n",
    "#         plt.show()\n",
    "        \n",
    "    minv,mini = jnp.inf,-1\n",
    "\n",
    "    # plot distance function\n",
    "    d2s = np.zeros((N,n_steps))\n",
    "    for i in range(N):\n",
    "        xs = xss[i].reshape((n_steps,M.N,M.m))\n",
    "        d2 = jnp.sum((xs[:,0]-xs[:,1])**2,1)\n",
    "        d2s[i] = d2\n",
    "        if jnp.nanmin(d2) < minv:\n",
    "            minv, mini = jnp.nanmin(d2), i\n",
    "        plt.plot(jnp.cumsum(dts(n_steps=n_steps)),jnp.log(d2),color=colors[i])\n",
    "    plt.xlabel('t'), plt.ylabel('log(distance^2)')\n",
    "    plt.show()\n",
    "    \n",
    "    print(\"min distance^2,log(distance^2):\",jnp.nanmin(d2s[mini]),jnp.nanmin(jnp.log(d2s[mini])))\n",
    "    \n",
    "    # finding percentiles\n",
    "    pcts = (np.array([0, 20, 35, 45, 55, 65, 80, 99])/100*N).astype('int')\n",
    "    layers = np.empty([n_steps, 8])\n",
    "    for i in range(n_steps) : \n",
    "        _sorted = np.sort(jnp.log(d2s[:,i]))\n",
    "        layers[i, :] = _sorted[pcts]\n",
    "\n",
    "    # plot the layers\n",
    "    for i in range(7) :\n",
    "        plt.fill_between(jnp.cumsum(dts(n_steps=n_steps)), layers[:, i], layers[:, i+1], color=[\"yellow\", \"blue\", \"green\", \"red\", \"green\", \"blue\", \"yellow\"][i])\n",
    "    plt.xlabel('t'), plt.ylabel('log(distance^2)')\n",
    "    plt.show()\n",
    "\n",
    "    # plot paths with closest endpoints\n",
    "    lastj = -1 # last non-nan entry\n",
    "    for j in range(n_steps):\n",
    "        if jnp.any(jnp.isnan(xss[mini][j])):\n",
    "            lastj = j-1\n",
    "            break\n",
    "    if d == 1:\n",
    "        points = xss[mini].reshape(-1, 1, 2)\n",
    "        segments = np.concatenate([points[:-1], points[1:]], axis=1)\n",
    "\n",
    "        M.newfig()\n",
    "        M.plot()\n",
    "        ax = plt.gca()\n",
    "\n",
    "        norm = plt.Normalize(0,1)\n",
    "        lc = LineCollection(segments, cmap='viridis', norm=norm)\n",
    "        lc.set_array(jnp.cumsum(dts(n_steps=n_steps)))\n",
    "        line = ax.add_collection(lc)\n",
    "\n",
    "        plt.plot(q[0][0],q[0][1],'o',color='r',markersize=10)\n",
    "        plt.plot(xss[mini][lastj][0],xss[mini][lastj][1],'o',color='k',markersize=10) \n",
    "\n",
    "        plt.gcf().colorbar(line, ax=ax)\n",
    "\n",
    "        ax.set_xlim(xss[mini][:,0].min()-.5, xss[mini][:,0].max()+.5)\n",
    "        ax.set_ylim(xss[mini][:,1].min()-.5, xss[mini][:,1].max()+.5)\n",
    "        plt.show()\n",
    "    elif d == 2:\n",
    "        # plot\n",
    "        M.newfig()\n",
    "        M.plot()\n",
    "        M.plot_path(zip(xss[mini],chartss[mini]),color=colors[mini])\n",
    "        M.plotx(q,color='r')\n",
    "        M.plotx((xss[mini][lastj],chartss[mini][lastj]),color='k')\n",
    "        plt.show()\n",
    "    elif d == 3:\n",
    "        # plot\n",
    "        M.newfig()\n",
    "        M.plot()\n",
    "        M.plot_path(zip(xss[mini],chartss[mini]),color=colors[mini])\n",
    "        M.plotx(q,color='r')\n",
    "        M.plotx((xss[mini][lastj],chartss[mini][lastj]),color='k')\n",
    "        plt.show()\n"
   ]
  },
  {
   "cell_type": "code",
   "execution_count": null,
   "metadata": {},
   "outputs": [],
   "source": [
    "N = 50"
   ]
  },
  {
   "cell_type": "code",
   "execution_count": null,
   "metadata": {
    "scrolled": false
   },
   "outputs": [],
   "source": [
    "# Gaussian kernel, R^1\n",
    "M = landmarks(2)\n",
    "\n",
    "from src.Riemannian import metric\n",
    "metric.initialize(M)\n",
    "from src.stochastics import Brownian_coords\n",
    "Brownian_coords.initialize(M)\n",
    "\n",
    "simBrownianN2(1,N)"
   ]
  },
  {
   "cell_type": "code",
   "execution_count": null,
   "metadata": {
    "scrolled": false
   },
   "outputs": [],
   "source": [
    "# Exponential kernel, R^1\n",
    "M = landmarks(2,kernel='K1')\n",
    "\n",
    "from src.Riemannian import metric\n",
    "metric.initialize(M)\n",
    "from src.stochastics import Brownian_coords\n",
    "Brownian_coords.initialize(M)\n",
    "\n",
    "simBrownianN2(1,N)"
   ]
  },
  {
   "cell_type": "code",
   "execution_count": null,
   "metadata": {
    "scrolled": false
   },
   "outputs": [],
   "source": [
    "# Exponential kernel, R^1\n",
    "M = landmarks(2,kernel='K2')\n",
    "\n",
    "from src.Riemannian import metric\n",
    "metric.initialize(M)\n",
    "from src.stochastics import Brownian_coords\n",
    "Brownian_coords.initialize(M)\n",
    "\n",
    "simBrownianN2(1,N)"
   ]
  },
  {
   "cell_type": "code",
   "execution_count": null,
   "metadata": {
    "scrolled": false
   },
   "outputs": [],
   "source": [
    "# Exponential kernel, R^1\n",
    "M = landmarks(2,kernel='K3')\n",
    "\n",
    "from src.Riemannian import metric\n",
    "metric.initialize(M)\n",
    "from src.stochastics import Brownian_coords\n",
    "Brownian_coords.initialize(M)\n",
    "\n",
    "simBrownianN2(1,N)"
   ]
  },
  {
   "cell_type": "code",
   "execution_count": null,
   "metadata": {
    "scrolled": false
   },
   "outputs": [],
   "source": [
    "# Exponential kernel, R^1\n",
    "M = landmarks(2,kernel='K4')\n",
    "\n",
    "from src.Riemannian import metric\n",
    "metric.initialize(M)\n",
    "from src.stochastics import Brownian_coords\n",
    "Brownian_coords.initialize(M)\n",
    "\n",
    "simBrownianN2(1,N)"
   ]
  },
  {
   "cell_type": "code",
   "execution_count": null,
   "metadata": {
    "scrolled": false
   },
   "outputs": [],
   "source": [
    "# Gaussian kernel, R^2\n",
    "M = landmarks(2)\n",
    "\n",
    "from src.Riemannian import metric\n",
    "metric.initialize(M)\n",
    "from src.stochastics import Brownian_coords\n",
    "Brownian_coords.initialize(M)\n",
    "\n",
    "simBrownianN2(2,N)"
   ]
  },
  {
   "cell_type": "code",
   "execution_count": null,
   "metadata": {
    "scrolled": false
   },
   "outputs": [],
   "source": [
    "# Exponential kernel, R^2\n",
    "M = landmarks(2,kernel='K1')\n",
    "\n",
    "from src.Riemannian import metric\n",
    "metric.initialize(M)\n",
    "from src.stochastics import Brownian_coords\n",
    "Brownian_coords.initialize(M)\n",
    "\n",
    "simBrownianN2(2,N)"
   ]
  },
  {
   "cell_type": "code",
   "execution_count": null,
   "metadata": {
    "scrolled": false
   },
   "outputs": [],
   "source": [
    "# Exponential kernel, R^2\n",
    "M = landmarks(2,kernel='K2')\n",
    "\n",
    "from src.Riemannian import metric\n",
    "metric.initialize(M)\n",
    "from src.stochastics import Brownian_coords\n",
    "Brownian_coords.initialize(M)\n",
    "\n",
    "simBrownianN2(2,N)"
   ]
  },
  {
   "cell_type": "code",
   "execution_count": null,
   "metadata": {
    "scrolled": false
   },
   "outputs": [],
   "source": [
    "# Exponential kernel, R^2\n",
    "M = landmarks(2,kernel='K3')\n",
    "\n",
    "from src.Riemannian import metric\n",
    "metric.initialize(M)\n",
    "from src.stochastics import Brownian_coords\n",
    "Brownian_coords.initialize(M)\n",
    "\n",
    "simBrownianN2(2,N)"
   ]
  },
  {
   "cell_type": "code",
   "execution_count": null,
   "metadata": {
    "scrolled": false
   },
   "outputs": [],
   "source": [
    "# Exponential kernel, R^2\n",
    "M = landmarks(2,kernel='K4')\n",
    "\n",
    "from src.Riemannian import metric\n",
    "metric.initialize(M)\n",
    "from src.stochastics import Brownian_coords\n",
    "Brownian_coords.initialize(M)\n",
    "\n",
    "simBrownianN2(2,N)"
   ]
  },
  {
   "cell_type": "code",
   "execution_count": null,
   "metadata": {
    "scrolled": false
   },
   "outputs": [],
   "source": [
    "# Gaussian kernel, R^3\n",
    "M = landmarks(2)\n",
    "\n",
    "from src.Riemannian import metric\n",
    "metric.initialize(M)\n",
    "from src.stochastics import Brownian_coords\n",
    "Brownian_coords.initialize(M)\n",
    "\n",
    "simBrownianN2(3,N)"
   ]
  },
  {
   "cell_type": "code",
   "execution_count": null,
   "metadata": {
    "scrolled": false
   },
   "outputs": [],
   "source": [
    "# Exponential kernel, R^3\n",
    "M = landmarks(2,kernel='K1')\n",
    "\n",
    "from src.Riemannian import metric\n",
    "metric.initialize(M)\n",
    "from src.stochastics import Brownian_coords\n",
    "Brownian_coords.initialize(M)\n",
    "\n",
    "simBrownianN2(3,N)"
   ]
  },
  {
   "cell_type": "code",
   "execution_count": null,
   "metadata": {
    "scrolled": false
   },
   "outputs": [],
   "source": [
    "# Exponential kernel, R^3\n",
    "M = landmarks(2,kernel='K2')\n",
    "\n",
    "from src.Riemannian import metric\n",
    "metric.initialize(M)\n",
    "from src.stochastics import Brownian_coords\n",
    "Brownian_coords.initialize(M)\n",
    "\n",
    "simBrownianN2(3,N)"
   ]
  },
  {
   "cell_type": "code",
   "execution_count": null,
   "metadata": {
    "scrolled": false
   },
   "outputs": [],
   "source": [
    "# Exponential kernel, R^3\n",
    "M = landmarks(2,kernel='K3')\n",
    "\n",
    "from src.Riemannian import metric\n",
    "metric.initialize(M)\n",
    "from src.stochastics import Brownian_coords\n",
    "Brownian_coords.initialize(M)\n",
    "\n",
    "simBrownianN2(3,N)"
   ]
  },
  {
   "cell_type": "code",
   "execution_count": null,
   "metadata": {
    "scrolled": false
   },
   "outputs": [],
   "source": [
    "# Exponential kernel, R^3\n",
    "M = landmarks(2,kernel='K4')\n",
    "\n",
    "from src.Riemannian import metric\n",
    "metric.initialize(M)\n",
    "from src.stochastics import Brownian_coords\n",
    "Brownian_coords.initialize(M)\n",
    "\n",
    "simBrownianN2(3,N)"
   ]
  },
  {
   "cell_type": "code",
   "execution_count": null,
   "metadata": {},
   "outputs": [],
   "source": []
  }
 ],
 "metadata": {
  "kernelspec": {
   "display_name": "Python 3 (ipykernel)",
   "language": "python",
   "name": "python3"
  },
  "language_info": {
   "codemirror_mode": {
    "name": "ipython",
    "version": 3
   },
   "file_extension": ".py",
   "mimetype": "text/x-python",
   "name": "python",
   "nbconvert_exporter": "python",
   "pygments_lexer": "ipython3",
   "version": "3.9.7"
  }
 },
 "nbformat": 4,
 "nbformat_minor": 1
}
