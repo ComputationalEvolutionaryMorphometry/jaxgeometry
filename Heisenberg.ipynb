{
 "cells": [
  {
   "cell_type": "code",
   "execution_count": null,
   "metadata": {
    "ExecuteTime": {
     "end_time": "2021-04-07T06:33:38.909664Z",
     "start_time": "2021-04-07T06:33:38.905912Z"
    }
   },
   "outputs": [],
   "source": [
    "## This file is part of Jax Geometry\n",
    "#\n",
    "# Copyright (C) 2021, Stefan Sommer (sommer@di.ku.dk)\n",
    "# https://bitbucket.org/stefansommer/jaxgeometry\n",
    "#\n",
    "# Jax Geometry is free software: you can redistribute it and/or modify\n",
    "# it under the terms of the GNU General Public License as published by\n",
    "# the Free Software Foundation, either version 3 of the License, or\n",
    "# (at your option) any later version.\n",
    "#\n",
    "# Jax Geometry is distributed in the hope that it will be useful,\n",
    "# but WITHOUT ANY WARRANTY; without even the implied warranty of\n",
    "# MERCHANTABILITY or FITNESS FOR A PARTICULAR PURPOSE.  See the\n",
    "# GNU General Public License for more details.\n",
    "#\n",
    "# You should have received a copy of the GNU General Public License\n",
    "# along with Jax Geometry. If not, see <http://www.gnu.org/licenses/>.\n",
    "#"
   ]
  },
  {
   "cell_type": "markdown",
   "metadata": {},
   "source": [
    "# Heisenberg group"
   ]
  },
  {
   "cell_type": "code",
   "execution_count": null,
   "metadata": {},
   "outputs": [],
   "source": [
    "%load_ext autoreload\n",
    "%autoreload 2"
   ]
  },
  {
   "cell_type": "code",
   "execution_count": null,
   "metadata": {},
   "outputs": [],
   "source": [
    "from src.manifolds.Heisenberg import *\n",
    "M = Heisenberg()\n",
    "print(M)\n",
    "from src.plotting import *\n",
    "#%matplotlib notebook"
   ]
  },
  {
   "cell_type": "code",
   "execution_count": null,
   "metadata": {
    "scrolled": false
   },
   "outputs": [],
   "source": [
    "# element, tangent vector and covector\n",
    "x = M.coords([.5,0.,.5])\n",
    "v = jnp.array([-.5,0.,0.])\n",
    "\n",
    "print(\"x = \", x)\n",
    "print(\"v = \", v)\n",
    "\n",
    "# plot\n",
    "newfig()\n",
    "M.plot()\n",
    "M.plotx(x,u=v,linewidth = 1.5, s=50)\n",
    "plt.show()"
   ]
  },
  {
   "cell_type": "code",
   "execution_count": null,
   "metadata": {
    "ExecuteTime": {
     "end_time": "2021-04-07T06:34:21.390776Z",
     "start_time": "2021-04-07T06:33:50.527879Z"
    }
   },
   "outputs": [],
   "source": [
    "## sub-Riemannian structure\n",
    "from src.sR import metric\n",
    "metric.initialize(M)\n",
    "\n",
    "print(\"D(x):\\n\",M.D(x))\n",
    "print(\"a(x):\\n\",M.a(x))\n",
    "\n",
    "# covector\n",
    "p = jnp.array([-1.,0,-.5])\n",
    "v = M.sharp(x,p)\n",
    "print(\"v: \",v,\", p: \",p)"
   ]
  },
  {
   "cell_type": "markdown",
   "metadata": {},
   "source": [
    "### Geodesics from Hamiltonian equations"
   ]
  },
  {
   "cell_type": "code",
   "execution_count": null,
   "metadata": {
    "ExecuteTime": {
     "end_time": "2021-04-07T06:37:32.957657Z",
     "start_time": "2021-04-07T06:36:40.537702Z"
    },
    "scrolled": false
   },
   "outputs": [],
   "source": [
    "# # Hamiltonian dynamics\n",
    "print(M.H(x,p))\n",
    "\n",
    "from src.dynamics import Hamiltonian\n",
    "Hamiltonian.initialize(M)\n",
    "\n",
    "# Exponential map from Hamiltonian equations\n",
    "(xs,charts) = M.Exp_Hamiltoniant(x,p)\n",
    "\n",
    "# plot\n",
    "newfig()\n",
    "M.plot()\n",
    "M.plotx(x,u=v,linewidth = 1.5, s=50)\n",
    "M.plot_path(zip(xs,charts),linewidth = 1.5, s=50)\n",
    "plt.show()\n",
    "\n",
    "# dynamics returning both position and momentum\n",
    "(ts,xps,_) = M.Hamiltonian_dynamics(x,p,dts())\n",
    "ps = xps[:,1,:]\n",
    "print(\"Energy: \",np.array([M.H((x,chart),p) for (x,p,chart) in zip(xs,ps,charts)]))"
   ]
  },
  {
   "cell_type": "markdown",
   "metadata": {},
   "source": [
    "## Boundary value problem"
   ]
  },
  {
   "cell_type": "code",
   "execution_count": null,
   "metadata": {
    "scrolled": false
   },
   "outputs": [],
   "source": [
    "# Logarithm map\n",
    "from src.Riemannian import Log\n",
    "Log.initialize(M,f=M.Exp_Hamiltonian)\n",
    "\n",
    "y = M.coords(jnp.array([0.,0,.0]))\n",
    "p_Log = M.Log(x,y,v0=jnp.dot(jnp.linalg.pinv(M.a(x)),y[0]-x[0]))[0]\n",
    "v_Log = M.sharp(x,p_Log)\n",
    "print(\"v_Log: \",v_Log,\", p_Log: \",p_Log)\n",
    "\n",
    "(xs,charts) = M.Exp_Hamiltoniant(x,p_Log)\n",
    "newfig()\n",
    "M.plot()\n",
    "M.plot_path(zip(xs,charts),linewidth=1.5)\n",
    "plt.show()\n",
    "\n",
    "print((xs[1]-x[0])*n_steps)\n",
    "print(v_Log*4)"
   ]
  },
  {
   "cell_type": "markdown",
   "metadata": {},
   "source": [
    "## Brownian Motion"
   ]
  },
  {
   "cell_type": "code",
   "execution_count": null,
   "metadata": {
    "ExecuteTime": {
     "end_time": "2021-04-07T06:39:02.226293Z",
     "start_time": "2021-04-07T06:38:08.643994Z"
    },
    "scrolled": false
   },
   "outputs": [],
   "source": [
    "# coordinate form\n",
    "from src.stochastics import Brownian_sR\n",
    "Brownian_sR.initialize(M)\n",
    "\n",
    "_dts = dts(n_steps=1000)\n",
    "(ts,xs,charts) = M.Brownian_sR(x,_dts,dWs(M.sR_dim,_dts))\n",
    "\n",
    "# plot\n",
    "newfig()\n",
    "M.plot()\n",
    "M.plot_path(zip(xs,charts))\n",
    "plt.show()\n",
    "\n",
    "# plot multiple sample paths\n",
    "N = 5\n",
    "xss = np.zeros((N,n_steps,M.dim))\n",
    "chartss = np.zeros((N,n_steps,x[1].shape[0]))\n",
    "for i in range(N):\n",
    "    (ts,xs,charts) = M.Brownian_sR(x,dts(),dWs(M.sR_dim))\n",
    "    xss[i] = xs\n",
    "    chartss[i] = charts\n",
    "\n",
    "# plot\n",
    "newfig()\n",
    "M.plot()\n",
    "colormap = plt.get_cmap('winter')\n",
    "colors=[colormap(k) for k in np.linspace(0, 1, N)]\n",
    "for i in range(N):\n",
    "    M.plot_path(zip(xss[i],chartss[i]),color=colors[i])\n",
    "M.plotx(x,color='r',s=50)\n",
    "plt.show()"
   ]
  },
  {
   "cell_type": "markdown",
   "metadata": {},
   "source": [
    "## Brownian bridge guided"
   ]
  },
  {
   "cell_type": "code",
   "execution_count": null,
   "metadata": {
    "scrolled": false
   },
   "outputs": [],
   "source": [
    "import scipy.optimize\n",
    "def guide(x,v):\n",
    "    \"\"\" guided towards 0 in Heisenberg group \"\"\"\n",
    "    gamma = jnp.arctan2(x[0][1],x[0][0])\n",
    "    \n",
    "    f = lambda alpha: (8*jnp.sin(alpha[0]/2)**2*jnp.abs(x[0][2])-jnp.sum(x[0][0:2]**2)*(alpha[0]-jnp.sin(alpha[0])))**2\n",
    "    alpha = optimize.minimize(f,jnp.array([jnp.pi]),method='BFGS').x[0]\n",
    "    \n",
    "    r = jnp.linalg.norm(x[0][0:2])/(2*jnp.sin(alpha/2))\n",
    "    \n",
    "    epsilon = 1e-4\n",
    "    b = jax.lax.cond(jnp.abs(x[0][2])<epsilon,\n",
    "                     lambda _: \n",
    "                         jnp.array([-jnp.linalg.norm(x[0][0:2])*jnp.cos(gamma),\n",
    "                                    -jnp.linalg.norm(x[0][0:2])*jnp.sin(gamma)]),\n",
    "                     lambda _: \n",
    "                         jnp.array([-r*alpha*jnp.cos(gamma+jnp.sign(x[0][2])*alpha/2),\n",
    "                                    -r*alpha*jnp.sin(gamma+jnp.sign(x[0][2])*alpha/2)]),\n",
    "                     None)\n",
    "    return b\n",
    "\n",
    "# example\n",
    "print(x[0],guide(x,None),jnp.dot(M.D(x),guide(x,None)))\n",
    "    \n",
    "\n",
    "def initialize(M,sde,chart_update,guide,T=1):\n",
    "    \"\"\" guided diffusions \"\"\"\n",
    "\n",
    "    def sde_guided(c,y):\n",
    "        t,x,chart,T,*cy = c\n",
    "        dt,dW = y\n",
    "        \n",
    "        (det,sto,X,*dcy) = sde((t,x,chart,*cy),y)\n",
    "        \n",
    "        h = jax.lax.cond(t<T-dt/2,\n",
    "                         lambda _: guide((x,chart),v)/(T-t),\n",
    "                         lambda _: jnp.zeros_like(guide((x,chart),v)),\n",
    "                         None)\n",
    "\n",
    "        return (det+jnp.dot(X,h),sto,X,0.,*dcy)\n",
    "    \n",
    "    chart_update_guided = chart_update\n",
    "    \n",
    "    M.sde_guided = sde_guided\n",
    "    M.chart_update_guided = chart_update_guided\n",
    "    M.guided = jit(lambda x,dts,dWs: integrate_sde(sde_guided,integrator_ito,chart_update_guided,x[0],x[1],dts,dWs,jnp.sum(dts))[0:3])\n",
    "\n",
    "# coordinate form\n",
    "# from src.stochastics import guided_process\n",
    "initialize(M,M.sde_Brownian_sR,M.chart_update_Brownian_sR,guide)\n",
    "\n",
    "_dts = dts(n_steps=500)\n",
    "(ts,xs,charts) = M.guided(x,_dts,dWs(M.sR_dim,_dts))\n",
    "print(xs[-1])\n",
    "\n",
    "# plot\n",
    "newfig()\n",
    "M.plot()\n",
    "M.plot_path(zip(xs,charts))\n",
    "plt.show()\n",
    "\n",
    "plt.plot(jnp.cumsum(_dts),jax.vmap(lambda x: jnp.linalg.norm(x[0:2]),0)(xs),'r')\n",
    "plt.plot(jnp.cumsum(_dts),jax.vmap(lambda x: jnp.linalg.norm(x[3]),0)(xs),'b')\n",
    "plt.show()"
   ]
  },
  {
   "cell_type": "code",
   "execution_count": null,
   "metadata": {
    "scrolled": false
   },
   "outputs": [],
   "source": [
    "# plot multiple sample paths\n",
    "N = 10\n",
    "_dts = dts(n_steps=500)\n",
    "xss = np.zeros((N,_dts.shape[0],M.dim))\n",
    "chartss = np.zeros((N,_dts.shape[0],x[1].shape[0]))\n",
    "for i in range(N):\n",
    "    (ts,xs,charts) = M.guided(x,_dts,dWs(M.sR_dim,_dts))\n",
    "    xss[i] = xs\n",
    "    chartss[i] = charts\n",
    "    \n",
    "    plt.plot(jnp.cumsum(_dts),jax.vmap(lambda x: jnp.linalg.norm(x[0:2]),0)(xs),'r')\n",
    "    plt.plot(jnp.cumsum(_dts),jax.vmap(lambda x: jnp.linalg.norm(x[3]),0)(xs),'b')\n",
    "plt.show()"
   ]
  },
  {
   "cell_type": "code",
   "execution_count": null,
   "metadata": {},
   "outputs": [],
   "source": []
  }
 ],
 "metadata": {
  "kernelspec": {
   "display_name": "Python 3 (ipykernel)",
   "language": "python",
   "name": "python3"
  },
  "language_info": {
   "codemirror_mode": {
    "name": "ipython",
    "version": 3
   },
   "file_extension": ".py",
   "mimetype": "text/x-python",
   "name": "python",
   "nbconvert_exporter": "python",
   "pygments_lexer": "ipython3",
   "version": "3.9.7"
  }
 },
 "nbformat": 4,
 "nbformat_minor": 1
}
