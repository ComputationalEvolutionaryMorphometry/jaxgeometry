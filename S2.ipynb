{
 "cells": [
  {
   "cell_type": "code",
   "execution_count": null,
   "metadata": {
    "ExecuteTime": {
     "end_time": "2021-04-07T06:33:38.909664Z",
     "start_time": "2021-04-07T06:33:38.905912Z"
    }
   },
   "outputs": [],
   "source": [
    "## This file is part of Jax Geometry\n",
    "#\n",
    "# Copyright (C) 2021, Stefan Sommer (sommer@di.ku.dk)\n",
    "# https://bitbucket.org/stefansommer/jaxgeometry\n",
    "#\n",
    "# Jax Geometry is free software: you can redistribute it and/or modify\n",
    "# it under the terms of the GNU General Public License as published by\n",
    "# the Free Software Foundation, either version 3 of the License, or\n",
    "# (at your option) any later version.\n",
    "#\n",
    "# Jax Geometry is distributed in the hope that it will be useful,\n",
    "# but WITHOUT ANY WARRANTY; without even the implied warranty of\n",
    "# MERCHANTABILITY or FITNESS FOR A PARTICULAR PURPOSE.  See the\n",
    "# GNU General Public License for more details.\n",
    "#\n",
    "# You should have received a copy of the GNU General Public License\n",
    "# along with Jax Geometry. If not, see <http://www.gnu.org/licenses/>.\n",
    "#"
   ]
  },
  {
   "cell_type": "markdown",
   "metadata": {},
   "source": [
    "# $\\mathbb{S}^2$ Sphere Geometry"
   ]
  },
  {
   "cell_type": "code",
   "execution_count": null,
   "metadata": {},
   "outputs": [],
   "source": [
    "%load_ext autoreload\n",
    "%autoreload 2"
   ]
  },
  {
   "cell_type": "code",
   "execution_count": null,
   "metadata": {},
   "outputs": [],
   "source": [
    "from src.manifolds.S2 import *\n",
    "M = S2()\n",
    "print(M)\n",
    "from src.plotting import *\n",
    "#%matplotlib notebook"
   ]
  },
  {
   "cell_type": "code",
   "execution_count": null,
   "metadata": {
    "scrolled": false
   },
   "outputs": [],
   "source": [
    "# element, tangent vector and covector\n",
    "x = M.coords([0.,0.])\n",
    "v = jnp.array([1.,0.])\n",
    "\n",
    "print(\"x = \", x)\n",
    "print(\"v = \", v)\n",
    "\n",
    "\n",
    "print(\"F(x): \",M.F(x))\n",
    "print(\"JF(x):\\n\",M.JF(x))\n",
    "print(\"JF(x)^{-1}:\\n\",M.invJF((M.F(x),x[1])))\n",
    "\n",
    "# plot\n",
    "newfig()\n",
    "M.plot()\n",
    "M.plotx(x,u=v,linewidth = 1.5, s=50)\n",
    "plt.show()"
   ]
  },
  {
   "cell_type": "code",
   "execution_count": null,
   "metadata": {
    "ExecuteTime": {
     "end_time": "2021-04-07T06:34:21.390776Z",
     "start_time": "2021-04-07T06:33:50.527879Z"
    }
   },
   "outputs": [],
   "source": [
    "## Riemannian structure\n",
    "from src.Riemannian import metric\n",
    "metric.initialize(M)\n",
    "\n",
    "print(\"g(x):\\n\",M.g(x))\n",
    "print(\"g^#(x):\\n\",M.gsharp(x))\n",
    "print(\"\\Gamma(x):\\n\",M.Gamma_g(x))\n",
    "\n",
    "# covector\n",
    "p = M.flat(x,v)\n",
    "print(\"v: \",v,\", p: \",p,\", p^#: \",M.sharp(x,p))"
   ]
  },
  {
   "cell_type": "markdown",
   "metadata": {},
   "source": [
    "## Riemannian Geodesics"
   ]
  },
  {
   "cell_type": "code",
   "execution_count": null,
   "metadata": {
    "ExecuteTime": {
     "end_time": "2021-04-07T06:36:40.535523Z",
     "start_time": "2021-04-07T06:34:21.393432Z"
    },
    "scrolled": false
   },
   "outputs": [],
   "source": [
    "# 2nd order geodesic equation\n",
    "from src.Riemannian import geodesic\n",
    "geodesic.initialize(M)\n",
    "\n",
    "# compute geodesics\n",
    "(xs,charts) = M.Expt(x,v)\n",
    "\n",
    "# plot\n",
    "newfig()\n",
    "M.plot()\n",
    "M.plotx(x,u=v,linewidth = 1.5, s=50)\n",
    "M.plot_path(zip(xs,charts),linewidth = 1.5, s=50)\n",
    "plt.show()"
   ]
  },
  {
   "cell_type": "markdown",
   "metadata": {},
   "source": [
    "### Geodesics from Hamiltonian equations"
   ]
  },
  {
   "cell_type": "code",
   "execution_count": null,
   "metadata": {
    "ExecuteTime": {
     "end_time": "2021-04-07T06:37:32.957657Z",
     "start_time": "2021-04-07T06:36:40.537702Z"
    },
    "scrolled": false
   },
   "outputs": [],
   "source": [
    "# # Hamiltonian dynamics\n",
    "q = x\n",
    "print(M.H(q,p))\n",
    "\n",
    "from src.dynamics import Hamiltonian\n",
    "Hamiltonian.initialize(M)\n",
    "\n",
    "# Exponential map from Hamiltonian equations\n",
    "(qs,charts) = M.Exp_Hamiltoniant(q,p)\n",
    "\n",
    "# plot\n",
    "newfig()\n",
    "M.plot()\n",
    "M.plotx(x,u=v,linewidth = 1.5, s=50)\n",
    "M.plot_path(zip(qs,charts),linewidth = 1.5, s=50)\n",
    "plt.show()\n",
    "\n",
    "# dynamics returning both position and momentum\n",
    "(ts,qps,_) = M.Hamiltonian_dynamics(q,p,dts())\n",
    "ps = qps[:,1,:]\n",
    "print(\"Energy: \",np.array([M.H((q,chart),p) for (q,p,chart) in zip(qs,ps,charts)]))"
   ]
  },
  {
   "cell_type": "markdown",
   "metadata": {},
   "source": [
    "## Curvature"
   ]
  },
  {
   "cell_type": "code",
   "execution_count": null,
   "metadata": {
    "ExecuteTime": {
     "end_time": "2021-04-07T06:37:32.961913Z",
     "start_time": "2021-04-07T06:37:32.959507Z"
    },
    "scrolled": false
   },
   "outputs": [],
   "source": [
    "from src.Riemannian import curvature\n",
    "curvature.initialize(M)\n",
    " \n",
    "# Curvature tensor, Ricci and scalar curvature:\n",
    "print(\"curvature = \", M.R(x))\n",
    "print(\"Ricci curvature = \", M.Ricci_curv(x))\n",
    "print(\"Scalar curvature = \", M.S_curv(x))\n",
    "\n",
    "# Orthonormal basis under g:\n",
    "nu = jnp.linalg.cholesky(M.gsharp(x))\n",
    "\n",
    "# # Sectional Curvature\n",
    "# print(\"sectional curvature = \",M.sec_curv(x,nu[:,0],nu[:,1]))"
   ]
  },
  {
   "cell_type": "markdown",
   "metadata": {},
   "source": [
    "## Parallel Transport"
   ]
  },
  {
   "cell_type": "code",
   "execution_count": null,
   "metadata": {
    "ExecuteTime": {
     "end_time": "2021-04-07T06:38:08.642176Z",
     "start_time": "2021-04-07T06:37:32.963492Z"
    },
    "scrolled": false
   },
   "outputs": [],
   "source": [
    "# Parallel transport\n",
    "from src.Riemannian import parallel_transport\n",
    "parallel_transport.initialize(M)\n",
    "\n",
    "chart = M.chart()\n",
    "w = np.array([-1./2,-1./2])\n",
    "w = w/M.norm(x,w)\n",
    "t = np.cumsum(dts())\n",
    "xs = np.vstack([t**2,-np.sin(t)]).T\n",
    "dxs = np.vstack([2*t,-np.cos(t)]).T\n",
    "\n",
    "# compute  parallel transport\n",
    "ws = M.parallel_transport(w,dts(),xs,np.tile(chart,(n_steps,1)),dxs)\n",
    "print(\"ws norm: \",np.array([M.norm((x,chart),w) for (x,w,chart) in zip(xs,ws,charts)]))\n",
    "\n",
    "# plot result\n",
    "newfig()\n",
    "M.plot()\n",
    "M.plot_path(zip(xs,itertools.cycle((chart,))),vs=ws,v_steps=np.arange(0,n_steps,5))\n",
    "plt.show()\n",
    "\n",
    "# along geodesic\n",
    "# compute geodesic\n",
    "(ts,xsdxs,charts) = M.geodesic(x,v,dts())\n",
    "xs = xsdxs[:,0,:]\n",
    "dxs = xsdxs[:,1,:]\n",
    "# compute  parallel transport\n",
    "ws = M.parallel_transport(w,dts(),xs,charts,dxs)\n",
    "print(\"ws norm: \",np.array([M.norm((x,chart),w) for (x,w,chart) in zip(xs,ws,charts)]))\n",
    "\n",
    "# plot\n",
    "newfig()\n",
    "M.plot()\n",
    "M.plot_path(zip(xs,charts),vs=ws,v_steps=np.arange(0,n_steps,5),linewidth=1.5, s=50)\n",
    "plt.show()"
   ]
  },
  {
   "cell_type": "markdown",
   "metadata": {},
   "source": [
    "## Brownian Motion"
   ]
  },
  {
   "cell_type": "code",
   "execution_count": null,
   "metadata": {
    "ExecuteTime": {
     "end_time": "2021-04-07T06:39:02.226293Z",
     "start_time": "2021-04-07T06:38:08.643994Z"
    },
    "scrolled": false
   },
   "outputs": [],
   "source": [
    "# coordinate form\n",
    "from src.stochastics import Brownian_coords\n",
    "Brownian_coords.initialize(M)\n",
    "\n",
    "_dts = dts(n_steps=1000)\n",
    "(ts,xs,charts) = M.Brownian_coords(x,_dts,dWs(M.dim,_dts))\n",
    "\n",
    "# plot\n",
    "newfig()\n",
    "M.plot()\n",
    "M.plot_path(zip(xs,charts))\n",
    "plt.show()\n",
    "\n",
    "# plot multiple sample paths\n",
    "N = 5\n",
    "xss = np.zeros((N,n_steps,M.dim))\n",
    "chartss = np.zeros((N,n_steps,x[1].shape[0]))\n",
    "for i in range(N):\n",
    "    (ts,xs,charts) = M.Brownian_coords(x,dts(),dWs(M.dim))\n",
    "    xss[i] = xs\n",
    "    chartss[i] = charts\n",
    "\n",
    "# plot\n",
    "M.newfig()\n",
    "M.plot()\n",
    "colormap = plt.get_cmap('winter')\n",
    "colors=[colormap(k) for k in np.linspace(0, 1, N)]\n",
    "for i in range(N):\n",
    "    M.plot_path(zip(xss[i],chartss[i]),color=colors[i])\n",
    "M.plotx(x,color='r',s=50)\n",
    "plt.show()"
   ]
  },
  {
   "cell_type": "code",
   "execution_count": null,
   "metadata": {
    "scrolled": false
   },
   "outputs": [],
   "source": [
    "# Delyon/Hu guided process\n",
    "from src.stochastics.guided_process import *\n",
    "\n",
    "# guide function\n",
    "phi = lambda q,v,s: jnp.tensordot((1./s)*jnp.linalg.cholesky(M.g(q)).T,M.StdLog(q,M.F((v,q[1]))).flatten(),(1,0))\n",
    "A = lambda x,v,w,s: (s**(-2))*jnp.dot(v,jnp.dot(M.g(x),w))\n",
    "logdetA = lambda x,s: jnp.linalg.slogdet(s**(-2)*M.g(x))[1]\n",
    "\n",
    "# plot guiding field\n",
    "M.newfig()\n",
    "M.plot_field(lambda x: .2*M.StdLog(x,jnp.array([0,0,-1])))\n",
    "plt.show()\n",
    "\n",
    "(Brownian_coords_guided,sde_Brownian_coords_guided,chart_update_Brownian_coords_guided,_,_) = get_guided(\n",
    "    M,M.sde_Brownian_coords,M.chart_update_Brownian_coords,phi,\n",
    "    lambda x,s: s*jnp.linalg.cholesky(M.gsharp(x)),A,logdetA)\n",
    "\n",
    "_dts = dts(n_steps=1000)\n",
    "\n",
    "w = M.Exp(x,np.array([.8,-.5]))\n",
    "(ts,xs,charts,log_likelihood,log_varphi) = Brownian_coords_guided(x,w,_dts,dWs(M.dim,_dts),1.)\n",
    "print(\"log likelihood: \", log_likelihood[-1], \", log varphi: \", log_varphi[-1])\n",
    "\n",
    "# plot\n",
    "newfig()\n",
    "M.plot()\n",
    "M.plot_path(zip(xs,charts))\n",
    "M.plotx(x,color='r',s=150)\n",
    "M.plotx(w,color='k',s=150)\n",
    "plt.show()\n",
    "\n",
    "# plot multiple bridges\n",
    "N = 5\n",
    "xss = np.zeros((N,_dts.shape[0],M.dim))\n",
    "chartss = np.zeros((N,_dts.shape[0],x[1].shape[0]))\n",
    "for i in range(N):\n",
    "    (ts,xs,charts,log_likelihood,log_varphi) = Brownian_coords_guided(x,w,_dts,dWs(M.dim,_dts),1.)\n",
    "    xss[i] = xs\n",
    "    chartss[i] = charts\n",
    "\n",
    "# plot\n",
    "M.newfig()\n",
    "M.plot()\n",
    "colormap = plt.get_cmap('winter')\n",
    "colors=[colormap(k) for k in np.linspace(0, 1, N)]\n",
    "for i in range(N):\n",
    "    M.plot_path(zip(xss[i],chartss[i]),color=colors[i])\n",
    "M.plotx(x,color='r',s=100)\n",
    "M.plotx(w,color='k',s=100)\n",
    "plt.savefig('S2_bridges.pdf')\n",
    "plt.show()"
   ]
  },
  {
   "cell_type": "code",
   "execution_count": null,
   "metadata": {
    "ExecuteTime": {
     "end_time": "2021-04-07T07:02:37.306278Z",
     "start_time": "2021-04-07T06:56:24.346718Z"
    },
    "scrolled": false
   },
   "outputs": [],
   "source": [
    "# development and Brownian motion from stochastic development\n",
    "from src.framebundle import FM\n",
    "from src.stochastics import stochastic_development\n",
    "from src.stochastics import Brownian_development\n",
    "\n",
    "FM.initialize(M)\n",
    "stochastic_development.initialize(M)\n",
    "Brownian_development.initialize(M)\n",
    "\n",
    "# develop a curve\n",
    "t = np.cumsum(dts(n_steps=50))\n",
    "dxs = np.vstack([2*t,-np.cos(t)]).T\n",
    "nu = np.linalg.cholesky(M.gsharp(x))\n",
    "u = (np.concatenate((x[0],nu.flatten())),x[1])\n",
    "(ts,xs,charts) = M.development(u,dxs,dts(n_steps=50))\n",
    "# print(\"u.T*g*u: \",np.array([np.einsum('ji,jk,kl->il',u.reshape((M.dim,-1)),M.g((x,chart)),u.reshape((M.dim,-1))) for (x,u,chart) in zip(xs[:,0:M.dim],xs[:,M.dim:],charts)]))\n",
    "\n",
    "# plot\n",
    "newfig()\n",
    "M.plot()\n",
    "M.plot_path(zip(xs,charts))\n",
    "plt.show()\n",
    "\n",
    "# simulate Brownian Motion\n",
    "_dts = dts(n_steps=1000)\n",
    "(ts,xs,charts) = M.Brownian_development(x,_dts,dWs(M.dim,_dts))\n",
    "\n",
    "# plot\n",
    "newfig()\n",
    "M.plot()\n",
    "M.plot_path(zip(xs,charts))\n",
    "plt.show()"
   ]
  },
  {
   "cell_type": "markdown",
   "metadata": {},
   "source": [
    "## Brownian motion on product manifold"
   ]
  },
  {
   "cell_type": "code",
   "execution_count": null,
   "metadata": {},
   "outputs": [],
   "source": [
    "# product sde\n",
    "from src.stochastics import product_sde\n",
    "from src.stochastics.product_sde import tile\n",
    "(product,sde_product,chart_update_product) = product_sde.initialize(M,M.sde_Brownian_coords,M.chart_update_Brownian_coords)\n",
    "\n",
    "N = 5\n",
    "_dts = dts(n_steps=500,T=1.)\n",
    "(ts,xss,chartss,*_) = product(tile(x,N),_dts,dWs(N*M.dim,_dts).reshape(-1,N,M.dim),jnp.repeat(1.,N))\n",
    "\n",
    "# plot\n",
    "M.newfig()\n",
    "M.plot()\n",
    "colormap = plt.get_cmap('winter')\n",
    "colors=[colormap(k) for k in np.linspace(0, 1, N)]\n",
    "for i in range(N):\n",
    "    M.plot_path(zip(xss[:,i],chartss[:,i]),color=colors[i])\n",
    "M.plotx(x,color='r')\n",
    "plt.show()"
   ]
  },
  {
   "cell_type": "code",
   "execution_count": null,
   "metadata": {
    "scrolled": false
   },
   "outputs": [],
   "source": [
    "# condition on diagonal of product manifold\n",
    "from src.stochastics import diagonal_conditioning\n",
    "diagonal_conditioning.initialize(M,sde_product,chart_update_product)\n",
    "\n",
    "_dts = dts(n_steps=100,T=.01)\n",
    "(ts,xss,chartss) = M.diagonal((xss[-1],chartss[-1]),_dts,dWs(N*M.dim,_dts).reshape(-1,N,M.dim),x[1],jnp.repeat(1.,N))\n",
    "\n",
    "# plot\n",
    "M.newfig()\n",
    "M.plot()\n",
    "colormap = plt.get_cmap('winter')\n",
    "colors=[colormap(k) for k in np.linspace(0, 1, N)]\n",
    "for i in range(N):\n",
    "    M.plot_path(zip(xss[:,i],chartss[:,i]),color=colors[i])\n",
    "plt.show()"
   ]
  },
  {
   "cell_type": "markdown",
   "metadata": {},
   "source": [
    "## Most probable paths"
   ]
  },
  {
   "cell_type": "code",
   "execution_count": null,
   "metadata": {
    "scrolled": false
   },
   "outputs": [],
   "source": [
    "# forward mpp equations, from Anisotropic covariance on manifolds and most probable paths,\n",
    "# Erlend Grong and Stefan Sommer, 2021\n",
    "from src.framebundle import MPP\n",
    "MPP.initialize(M)\n",
    "\n",
    "# integrate mpp\n",
    "nu = jnp.linalg.cholesky(M.gsharp(x))\n",
    "u = (jnp.concatenate((x[0],nu.flatten())),x[1])\n",
    "lamb = jnp.array([2.,.25])\n",
    "v = jnp.array([2.,0.])\n",
    "chi = jnp.array([-6.])\n",
    "print(\"lambda:\\n\",lamb,\"\\nnu:\\n\",nu,\"\\nv: \",v,\"\\nchi:\\n\",chi)\n",
    "%time (xs,vs,chis,charts) = M.MPP_forwardt(u,lamb,v,chi)\n",
    "%time (xs,vs,chis,charts) = M.MPP_forwardt(u,lamb,v,chi)\n",
    "\n",
    "# plot\n",
    "newfig()\n",
    "M.plot()\n",
    "M.plot_path(zip(xs[:,0:M.dim],charts))\n",
    "plt.show()\n",
    "\n",
    "# plot\n",
    "newfig()\n",
    "M.plot()\n",
    "M.plot_path(zip(xs,charts))\n",
    "plt.show()\n",
    "\n",
    "# anti-development\n",
    "print(\"Svs norm: \",np.array([np.linalg.norm(v/lamb) for v in vs]))\n",
    "axs = np.cumsum(vs*dts(T,n_steps)[:,np.newaxis],axis=0)\n",
    "plt.plot(axs[:,0],axs[:,1],'b',label='anti-development')\n",
    "plt.plot(vs[:,0],vs[:,1],'r',label='v(t)')\n",
    "plt.legend()\n",
    "plt.show()"
   ]
  },
  {
   "cell_type": "code",
   "execution_count": null,
   "metadata": {
    "scrolled": false
   },
   "outputs": [],
   "source": [
    "# target point\n",
    "v = jnp.array([.3,.3])\n",
    "(xs,charts) = M.Expt(x,v)\n",
    "y = (xs[-1],charts[-1])\n",
    "\n",
    "nu = jnp.linalg.cholesky(M.gsharp(x))\n",
    "u = (jnp.concatenate((x[0],nu.flatten())),x[1])\n",
    "\n",
    "# find MPP\n",
    "lamb = jnp.array([.5,.5])\n",
    "v,chi = M.MPP(u,lamb,y)\n",
    "\n",
    "print(\"lambda:\\n\",lamb,\"\\nnu:\\n\",nu,\"\\nv: \",v,\"\\nchi:\\n\",chi)\n",
    "(xs,vs,chis,charts) = M.MPP_forwardt(u,lamb,v,chi)\n",
    "print(\"chiT:\\n\",chis[-1])\n",
    "\n",
    "# plot\n",
    "newfig()\n",
    "M.plot()\n",
    "M.plotx(x,u=np.einsum('i,ij->ij',lamb,nu),linewidth = 1.5, s=50)\n",
    "M.plotx(y,linewidth = 1.5, s=50, color='r')\n",
    "M.plot_path(zip(xs[:,0:M.dim],charts))\n",
    "fig = plt.gcf(); ax = fig.gca(); ax.view_init(30, 30) # rotate\n",
    "plt.show()\n",
    "\n",
    "# anti-development\n",
    "print(\"Svs norm: \",np.array([np.linalg.norm(v/lamb) for v in vs]))\n",
    "axs = np.cumsum(vs*dts(T,n_steps)[:,np.newaxis],axis=0)\n",
    "plt.plot(axs[:,0],axs[:,1])\n",
    "plt.show()\n",
    "\n",
    "\n",
    "# find MPP\n",
    "lamb = jnp.array([.5,1.5])\n",
    "v,chi = M.MPP(u,lamb,y)\n",
    "\n",
    "print(\"lambda:\\n\",lamb,\"\\nnu:\\n\",nu,\"\\nv: \",v,\"\\nchi:\\n\",chi)\n",
    "(xs,vs,chis,charts) = M.MPP_forwardt(u,lamb,v,chi)\n",
    "print(\"chiT:\\n\",chis[-1])\n",
    "\n",
    "# plot\n",
    "newfig()\n",
    "M.plot()\n",
    "M.plotx(x,u=np.einsum('i,ij->ij',lamb,nu),linewidth = 1.5, s=50)\n",
    "M.plotx(y,linewidth = 1.5, s=50, color='r')\n",
    "M.plot_path(zip(xs[:,0:M.dim],charts))\n",
    "fig = plt.gcf(); ax = fig.gca(); ax.view_init(30, 0) # rotate\n",
    "# fig = plt.gcf(); ax = fig.gca(); ax.view_init(90, 0) # rotate\n",
    "# plt.axis('off')\n",
    "# plt.savefig('S2_MPP_lambda_05_15.pdf')\n",
    "plt.show()\n",
    "\n",
    "# with frame\n",
    "newfig()\n",
    "M.plot()\n",
    "M.plotx(x,linewidth = 1.5, s=50)\n",
    "M.plotx(y,linewidth = 1.5, s=50, color='r')\n",
    "M.plot_path(zip(xs,charts))\n",
    "fig = plt.gcf(); ax = fig.gca(); ax.view_init(30, 0) # rotate\n",
    "plt.show()\n",
    "\n",
    "# anti-development\n",
    "print(\"Svs norm: \",np.array([np.linalg.norm(v/lamb) for v in vs]))\n",
    "axs = np.cumsum(vs*dts(T,n_steps)[:,np.newaxis],axis=0)\n",
    "plt.plot(axs[:,0],axs[:,1])\n",
    "plt.show()"
   ]
  }
 ],
 "metadata": {
  "kernelspec": {
   "display_name": "Python 3 (ipykernel)",
   "language": "python",
   "name": "python3"
  },
  "language_info": {
   "codemirror_mode": {
    "name": "ipython",
    "version": 3
   },
   "file_extension": ".py",
   "mimetype": "text/x-python",
   "name": "python",
   "nbconvert_exporter": "python",
   "pygments_lexer": "ipython3",
   "version": "3.9.16"
  }
 },
 "nbformat": 4,
 "nbformat_minor": 1
}
