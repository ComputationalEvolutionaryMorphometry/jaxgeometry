{
 "cells": [
  {
   "cell_type": "code",
   "execution_count": null,
   "metadata": {
    "scrolled": true
   },
   "outputs": [],
   "source": [
    "## This file is part of Jax Geometry\n",
    "#\n",
    "# Copyright (C) 2021, Stefan Sommer (sommer@di.ku.dk)\n",
    "# https://bitbucket.org/stefansommer/jaxgeometry\n",
    "#\n",
    "# Jax Geometry is free software: you can redistribute it and/or modify\n",
    "# it under the terms of the GNU General Public License as published by\n",
    "# the Free Software Foundation, either version 3 of the License, or\n",
    "# (at your option) any later version.\n",
    "#\n",
    "# Jax Geometry is distributed in the hope that it will be useful,\n",
    "# but WITHOUT ANY WARRANTY; without even the implied warranty of\n",
    "# MERCHANTABILITY or FITNESS FOR A PARTICULAR PURPOSE.  See the\n",
    "# GNU General Public License for more details.\n",
    "#\n",
    "# You should have received a copy of the GNU General Public License\n",
    "# along with Jax Geometry. If not, see <http://www.gnu.org/licenses/>.\n",
    "#"
   ]
  },
  {
   "cell_type": "markdown",
   "metadata": {},
   "source": [
    "# Most probable landmark paths\n"
   ]
  },
  {
   "cell_type": "code",
   "execution_count": null,
   "metadata": {},
   "outputs": [],
   "source": [
    "%load_ext autoreload\n",
    "%autoreload 2"
   ]
  },
  {
   "cell_type": "code",
   "execution_count": null,
   "metadata": {
    "scrolled": false
   },
   "outputs": [],
   "source": [
    "%cd ..\n",
    "from src.manifolds.landmarks import *\n",
    "M = landmarks(3,k_sigma=.5*jnp.eye(2))\n",
    "print(M)\n",
    "from src.plotting import *"
   ]
  },
  {
   "cell_type": "code",
   "execution_count": null,
   "metadata": {},
   "outputs": [],
   "source": [
    "# Riemannian structure\n",
    "from src.Riemannian import metric\n",
    "metric.initialize(M)"
   ]
  },
  {
   "cell_type": "markdown",
   "metadata": {},
   "source": [
    "## Eulerian noise fields"
   ]
  },
  {
   "cell_type": "code",
   "execution_count": null,
   "metadata": {
    "scrolled": false
   },
   "outputs": [],
   "source": [
    "minx = -2; maxx = 2\n",
    "miny = -2; maxy = 2\n",
    "\n",
    "case = 0\n",
    "if case <= 0:\n",
    "    # define noise field grid\n",
    "    pts = 7\n",
    "    X, Y = jnp.meshgrid(np.linspace(minx,maxx,pts),np.linspace(miny,maxy,pts))\n",
    "    xy = jnp.vstack([X.ravel(), Y.ravel()]).T\n",
    "    sigmas_x = jnp.hstack((xy,xy)).reshape((-1,2))\n",
    "    sigmas_a = 1.*jnp.tile(np.eye(2),(sigmas_x.shape[0]//2,1))\n",
    "    #sigmas_x = np.array([[0.,0.]])\n",
    "    #sigmas_a = np.array([[.1,0.]])\n",
    "\n",
    "    # noise kernels\n",
    "    k_alpha = .75\n",
    "    k_sigma = jnp.diag(jnp.array([(maxx-minx)/(pts-1),(maxy-miny)/(pts-1)]))\n",
    "elif case <= 1:\n",
    "    sigmas_x = np.array([[0.,0.],[0.,0.]])\n",
    "    sigmas_a = np.array([[1.,0.],[0.,1.]])\n",
    "\n",
    "    # noise kernels\n",
    "    k_alpha = 1.\n",
    "    k_sigma = jnp.diag(jnp.ones(M.m))\n",
    "elif case <= 2:\n",
    "    sigmas_x = np.array([[-.5,0.],[-.5,0.],[.5,0.],[.5,0.]])\n",
    "    sigmas_a = np.array([[1.,0.],[0.,1.],[1.,0.],[0.,1.]])\n",
    "\n",
    "    # noise kernels\n",
    "    k_alpha = .5\n",
    "    k_sigma = .5*jnp.diag(jnp.ones(M.m))\n",
    "    \n",
    "J = sigmas_x.shape[0]  \n",
    "print(k_alpha,k_sigma)\n",
    "inv_k_sigma = jnp.linalg.inv(k_sigma)\n",
    "k = lambda x: k_alpha*jnp.exp(-.5*jnp.square(jnp.tensordot(x,inv_k_sigma,(x.ndim-1,1))).sum(x.ndim-1))\n",
    "k_q = lambda q1,q2: k(q1.reshape((-1,M.m))[:,np.newaxis,:]-q2.reshape((-1,M.m))[np.newaxis,:,:])\n",
    "sigmas = lambda x: jnp.einsum('ij,jd->ijd',k_q(x,sigmas_x),sigmas_a)\n",
    "dsigmas = lambda x: jnp.einsum('i...jk,jd->ijdk',jax.vmap(jacrev(k_q,0),(0,None))(x.reshape((-1,M.m)),sigmas_x),sigmas_a)\n",
    "\n",
    "# plot all fields\n",
    "pts = 20\n",
    "x,y = np.meshgrid(np.linspace(minx,maxx,pts),np.linspace(miny,maxy,pts))\n",
    "x = x.flatten(); y = y.flatten()\n",
    "xy = jnp.vstack((x,y)).T\n",
    "\n",
    "# compute values\n",
    "sigmasxy = sigmas(xy)\n",
    "\n",
    "import matplotlib.pyplot as plt\n",
    "from matplotlib.animation import FuncAnimation\n",
    "from IPython import display\n",
    "\n",
    "# Turn off matplotlib plot in Notebook\n",
    "plt.ioff()\n",
    "\n",
    "fig, ax = plt.subplots()\n",
    "\n",
    "ax.set_xlim(minx,maxx)\n",
    "ax.set_ylim(miny,maxy)\n",
    "\n",
    "\n",
    "def animate(i):\n",
    "    ax.clear()\n",
    "    return ax.quiver(x,y,sigmasxy[:,i,0],sigmasxy[:,i,1],angles='xy', scale_units='xy', scale=1)\n",
    "\n",
    "anim = FuncAnimation(fig, animate, frames=J, interval=500, repeat=False)\n",
    "\n",
    "video = anim.to_html5_video()\n",
    "html = display.HTML(video)\n",
    "display.display(html)\n",
    "plt.close()"
   ]
  },
  {
   "cell_type": "markdown",
   "metadata": {},
   "source": [
    "# Most probable paths"
   ]
  },
  {
   "cell_type": "code",
   "execution_count": null,
   "metadata": {
    "scrolled": false
   },
   "outputs": [],
   "source": [
    "# define drift field\n",
    "a = lambda x,qp: jnp.dot(M.K(x.flatten(),qp[0,:]),qp[1,:]).reshape((-1,M.m))\n",
    "\n",
    "# Hamiltonian dynamics\n",
    "from src.dynamics import Hamiltonian\n",
    "Hamiltonian.initialize(M)\n",
    "\n",
    "M.setN(3)\n",
    "q = M.coords(jnp.vstack((np.linspace(-.5,.5,M.N),-.5+np.zeros(M.N))).T.flatten())\n",
    "v = jnp.array(jnp.vstack((np.zeros(M.N),2*np.ones(M.N))).T.flatten())\n",
    "p = M.flat(q,v)\n",
    "\n",
    "# integrate\n",
    "_dts = dts(n_steps=100)\n",
    "(ts,qps,charts) = M.Hamiltonian_dynamics(q,p,_dts)\n",
    "\n",
    "# flow to create a(t)\n",
    "def ode_Hamiltonian_advect(c,y):\n",
    "    t,x,chart = c\n",
    "    qp, = y\n",
    "    q = qp[0]\n",
    "    p = qp[1]\n",
    "        \n",
    "    dxt = jnp.tensordot(M.K(x,q),p,(1,0)).reshape((-1,M.m))\n",
    "    return dxt\n",
    "\n",
    "_dts = dts()\n",
    "M.Hamiltonian_advect = jit(lambda xs,qps,dts: integrate(ode_Hamiltonian_advect,None,\n",
    "                                                        xs[0].reshape((-1,M.m)),xs[1],_dts,qps))"
   ]
  },
  {
   "cell_type": "code",
   "execution_count": null,
   "metadata": {},
   "outputs": [],
   "source": [
    "# MPP landmark equations\n",
    "from src.dynamics import MPP_landmarks\n",
    "MPP_landmarks.initialize(M,sigmas,dsigmas,a)"
   ]
  },
  {
   "cell_type": "code",
   "execution_count": null,
   "metadata": {
    "scrolled": false
   },
   "outputs": [],
   "source": [
    "# number of landmarks\n",
    "K = 10\n",
    "\n",
    "chart = M.chart()\n",
    "\n",
    "x0s = jnp.vstack((np.linspace(minx+.3,maxx-.3,K),np.zeros(K)-.5)).T\n",
    "_,xs_advect = M.Hamiltonian_advect((x0s.flatten(),M.chart()),qps,_dts)\n",
    "M.setN(K)\n",
    "_,xs,_,charts = M.MPP_landmarks((xs_advect[0].flatten(),chart),jnp.zeros(M.dim),qps,_dts)\n",
    "\n",
    "M.newfig()\n",
    "M.plot()\n",
    "M.plot_path(zip(qps[:,0],charts),color='k')\n",
    "M.plot_path(zip(xs_advect,itertools.cycle(chart)))\n",
    "M.plot_path(zip(xs,itertools.cycle(chart)),color='r')\n",
    "plt.plot(sigmas_x[:,0],sigmas_x[:,1],'.',color='g',markersize=15)\n",
    "plt.show()"
   ]
  },
  {
   "cell_type": "code",
   "execution_count": null,
   "metadata": {
    "scrolled": false
   },
   "outputs": [],
   "source": [
    "# Boundary value problem\n",
    "from src.dynamics import MPP_landmarks_Log\n",
    "MPP_landmarks_Log.initialize(M)\n",
    "\n",
    "x = (xs_advect[0].flatten(),chart)\n",
    "y = (xs_advect[75].flatten(),chart)\n",
    "lambd,_ = M.Log_MPP_landmarks(x,y,qps,_dts)\n",
    "_,xs,lambds,charts = M.MPP_landmarks((xs_advect[0].flatten(),chart),lambd,qps,_dts)\n",
    "\n",
    "# plot\n",
    "M.newfig()\n",
    "M.plot()\n",
    "# M.plot_path(zip(qps[:,0],charts))\n",
    "M.plot_path(zip(xs_advect,itertools.cycle(chart)))\n",
    "M.plot_path(zip(xs,itertools.cycle(chart)),color='r')\n",
    "M.plotx(y,color='k')\n",
    "plt.plot(sigmas_x[:,0],sigmas_x[:,1],'.',color='g',markersize=15)\n",
    "    \n",
    "plt.savefig('MPP_landmarks_BVP'+str(case)+'.pdf')\n",
    "plt.show()"
   ]
  },
  {
   "cell_type": "code",
   "execution_count": null,
   "metadata": {
    "scrolled": false
   },
   "outputs": [],
   "source": [
    "# comparison to most probable transformation\n",
    "\n",
    "# define domain manifold\n",
    "from src.manifolds.Euclidean import *\n",
    "N = Euclidean(2)\n",
    "\n",
    "# MPP Kunita equations\n",
    "from src.dynamics import MPP_Kunita\n",
    "u = lambda x,qp: jnp.dot(M.K(x[0],qp[0,:]),qp[1,:])\n",
    "MPP_Kunita.initialize(M,N,sigmas,u)\n",
    "\n",
    "# Curvature\n",
    "from src.Riemannian import curvature\n",
    "curvature.initialize(N)\n",
    "\n",
    "from src.dynamics import MPP_Kunita_Log\n",
    "MPP_Kunita_Log.initialize(M,N)\n",
    "\n",
    "dqps = jnp.einsum('t...,t->t...',jnp.gradient(qps,axis=0),1/_dts)\n",
    "\n",
    "# plot\n",
    "N.newfig()\n",
    "N.plot()\n",
    "M.plot_path(zip(xs_advect,itertools.cycle(chart)))\n",
    "plt.plot(sigmas_x[:,0],sigmas_x[:,1],'.',color='g',markersize=15)\n",
    "for i in range(K):\n",
    "    x0 = x[0].reshape((-1,M.m))[i]\n",
    "    v0 = jnp.tensordot(M.K(x0,qps[0,0]),qps[0,1],(1,0))\n",
    "    y0 = y[0].reshape((-1,M.m))[i]\n",
    "\n",
    "    vv = M.Log_MPP_AC((x0,N.chart()),(y0,N.chart()),qps,dqps,_dts)[0]\n",
    "    (_,xx1,charts) = M.MPP_AC((x0,N.chart()),vv,qps,dqps,_dts)\n",
    "\n",
    "    N.plot_path(zip(xx1[:,0,:],charts),color='r')\n",
    "M.plotx(y,color='k')\n",
    "    \n",
    "plt.savefig('MPP_AC_BVP_comparison_'+str(case)+'.pdf')\n",
    "plt.show()"
   ]
  },
  {
   "cell_type": "markdown",
   "metadata": {},
   "source": [
    "# Shape"
   ]
  },
  {
   "cell_type": "code",
   "execution_count": null,
   "metadata": {},
   "outputs": [],
   "source": [
    "# MPP landmark equations\n",
    "from src.dynamics import MPP_landmarks\n",
    "MPP_landmarks.initialize(M,sigmas,dsigmas,a)\n",
    "\n",
    "# number of landmarks\n",
    "M.setN(128)\n",
    "phis = jnp.linspace(0,2*jnp.pi,M.N)\n",
    "x0 = M.coords(jnp.vstack((jnp.cos(phis),jnp.sin(phis))).T.flatten())\n",
    "\n",
    "_,xs_advect = M.Hamiltonian_advect(x0,qps,_dts)\n",
    "%time _,xs,_,charts = M.MPP_landmarks(x0,jnp.zeros(M.dim),qps,_dts)\n",
    "\n",
    "M.newfig()\n",
    "M.plot()\n",
    "M.plot_path(zip(xs_advect,itertools.cycle(chart)))\n",
    "M.plot_path(zip(xs,itertools.cycle(chart)),color='r')\n",
    "M.plotx(x0,color='r')\n",
    "plt.plot(sigmas_x[:,0],sigmas_x[:,1],'.',color='g',markersize=15)\n",
    "plt.show()"
   ]
  },
  {
   "cell_type": "code",
   "execution_count": null,
   "metadata": {
    "scrolled": false
   },
   "outputs": [],
   "source": [
    "y = (xs_advect[-1].flatten(),chart)\n",
    "%time lambd,_ = M.Log_MPP_landmarks(x0,y,.5*qps,_dts)\n",
    "_,xs,lambds,charts = M.MPP_landmarks(x0,lambd,.5*qps,_dts)\n",
    "\n",
    "# plot\n",
    "M.newfig()\n",
    "M.plot()\n",
    "M.plot_path(zip(xs,itertools.cycle(chart)),color='r')\n",
    "M.plot_path(zip(xs_zero_noise,itertools.cycle(chart)),color='b')\n",
    "M.plotx(x0,color='r')\n",
    "M.plotx(y,color='k')\n",
    "# plt.plot(sigmas_x[:,0],sigmas_x[:,1],'.',color='g',markersize=15)\n",
    "    \n",
    "plt.savefig('MPP_landmarks_shape_BVP.pdf')\n",
    "plt.show()\n",
    "\n",
    "_,xs_zero_noise,lambds,charts = M.MPP_landmarks(x0,jnp.zeros_like(lambd),.5*qps,_dts)\n",
    "\n",
    "# plot\n",
    "M.newfig()\n",
    "M.plot()\n",
    "M.plot_path(zip(xs_zero_noise,itertools.cycle(chart)),color='r')\n",
    "M.plotx(x0,color='r')\n",
    "M.plotx(y,color='k')\n",
    "# plt.plot(sigmas_x[:,0],sigmas_x[:,1],'.',color='g',markersize=15)\n",
    "plt.savefig('MPP_landmarks_shape_no_noise.pdf')\n",
    "plt.show()"
   ]
  },
  {
   "cell_type": "code",
   "execution_count": null,
   "metadata": {},
   "outputs": [],
   "source": [
    "# comparison to most probable transformation\n",
    "\n",
    "# MPP Kunita equations\n",
    "from src.dynamics import MPP_Kunita\n",
    "u = lambda x,qp: jnp.dot(M.K(x[0],qp[0,:]),qp[1,:])\n",
    "MPP_Kunita.initialize(M,N,sigmas,u)\n",
    "\n",
    "# Curvature\n",
    "from src.Riemannian import curvature\n",
    "curvature.initialize(N)\n",
    "\n",
    "from src.dynamics import MPP_Kunita_Log\n",
    "MPP_Kunita_Log.initialize(M,N)\n",
    "\n",
    "dqps = jnp.einsum('t...,t->t...',jnp.gradient(qps,axis=0),1/_dts)\n",
    "\n",
    "# plot\n",
    "N.newfig()\n",
    "N.plot()\n",
    "# plt.plot(sigmas_x[:,0],sigmas_x[:,1],'.',color='g',markersize=15)\n",
    "for i in range(M.N):\n",
    "    xi = x0[0].reshape((-1,M.m))[i]\n",
    "    yi = y[0].reshape((-1,M.m))[i]\n",
    "\n",
    "    vv = M.Log_MPP_AC((xi,N.chart()),(yi,N.chart()),qps,dqps,_dts)[0]\n",
    "    (_,xx1,charts) = M.MPP_AC((xi,N.chart()),vv,qps,dqps,_dts)\n",
    "\n",
    "    N.plot_path(zip(xx1[:,0,:],charts),color='r')\n",
    "M.plotx(y,color='k')\n",
    "  \n",
    "plt.savefig('MPP_AC_shape_BVP.pdf')\n",
    "plt.show()"
   ]
  },
  {
   "cell_type": "code",
   "execution_count": null,
   "metadata": {},
   "outputs": [],
   "source": []
  }
 ],
 "metadata": {
  "kernelspec": {
   "display_name": "Python 3 (ipykernel)",
   "language": "python",
   "name": "python3"
  },
  "language_info": {
   "codemirror_mode": {
    "name": "ipython",
    "version": 3
   },
   "file_extension": ".py",
   "mimetype": "text/x-python",
   "name": "python",
   "nbconvert_exporter": "python",
   "pygments_lexer": "ipython3",
   "version": "3.9.18"
  }
 },
 "nbformat": 4,
 "nbformat_minor": 1
}
