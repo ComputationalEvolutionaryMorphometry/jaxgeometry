{
 "cells": [
  {
   "cell_type": "code",
   "execution_count": null,
   "metadata": {
    "ExecuteTime": {
     "end_time": "2021-02-18T19:20:32.491118Z",
     "start_time": "2021-02-18T19:20:32.488147Z"
    }
   },
   "outputs": [],
   "source": [
    "## This file is part of Jax Geometry\n",
    "#\n",
    "# Copyright (C) 2021, Stefan Sommer (sommer@di.ku.dk)\n",
    "# https://bitbucket.org/stefansommer/jaxgeometry\n",
    "#\n",
    "# Jax Geometry is free software: you can redistribute it and/or modify\n",
    "# it under the terms of the GNU General Public License as published by\n",
    "# the Free Software Foundation, either version 3 of the License, or\n",
    "# (at your option) any later version.\n",
    "#\n",
    "# Jax Geometry is distributed in the hope that it will be useful,\n",
    "# but WITHOUT ANY WARRANTY; without even the implied warranty of\n",
    "# MERCHANTABILITY or FITNESS FOR A PARTICULAR PURPOSE.  See the\n",
    "# GNU General Public License for more details.\n",
    "#\n",
    "# You should have received a copy of the GNU General Public License\n",
    "# along with Jax Geometry. If not, see <http://www.gnu.org/licenses/>.\n",
    "#"
   ]
  },
  {
   "cell_type": "markdown",
   "metadata": {
    "collapsed": true
   },
   "source": [
    "# Most probable paths and development, Lie groups"
   ]
  },
  {
   "cell_type": "code",
   "execution_count": null,
   "metadata": {},
   "outputs": [],
   "source": [
    "%load_ext autoreload\n",
    "%autoreload 2"
   ]
  },
  {
   "cell_type": "code",
   "execution_count": null,
   "metadata": {
    "ExecuteTime": {
     "end_time": "2021-02-18T19:21:18.542521Z",
     "start_time": "2021-02-18T19:20:32.493368Z"
    }
   },
   "outputs": [],
   "source": [
    "%cd ..\n",
    "\n",
    "# SO(3)\n",
    "from src.groups.SON import *\n",
    "G = SON(3,invariance='right')\n",
    "print(G)\n",
    "\n",
    "from src.plotting import *"
   ]
  },
  {
   "cell_type": "code",
   "execution_count": null,
   "metadata": {
    "ExecuteTime": {
     "end_time": "2021-02-18T19:22:13.618982Z",
     "start_time": "2021-02-18T19:21:18.544893Z"
    }
   },
   "outputs": [],
   "source": [
    "# setup for testing different versions of stochastic dynamics\n",
    "q = jnp.array([1e-3,0.,0.])\n",
    "g = G.psi(q)\n",
    "v = jnp.array([0.,1.,1.])\n",
    "\n",
    "# geodesics\n",
    "xiv=G.VtoLA(v)\n",
    "(ts,gsv) = G.expt(xiv)\n",
    "y = gsv[-1]\n",
    "\n",
    "from src.group import invariant_metric\n",
    "invariant_metric.initialize(G)\n",
    "p = G.sharppsi(q,v)\n",
    "mu = G.sharpV(v)\n",
    "\n",
    "from src.group import energy\n",
    "energy.initialize(G)"
   ]
  },
  {
   "cell_type": "code",
   "execution_count": null,
   "metadata": {
    "scrolled": false
   },
   "outputs": [],
   "source": [
    "from src.dynamics import MPP_group\n",
    "MPP_group.initialize(G,Sigma=jnp.diag(jnp.array([.3,2.,1.])),a=lambda t: jnp.array([1.,0.,0.]))\n",
    "\n",
    "# forward equations\n",
    "sigma = jnp.diag(jnp.array([2.,1.,.5]))\n",
    "alpha = jnp.array([0.,0.,-1.])\n",
    "\n",
    "_dts = dts()\n",
    "(ts,alphas) = G.mpp(alpha,_dts,sigma)\n",
    "(ts,gs) = G.mpprec(g,alphas,_dts,sigma)\n",
    "\n",
    "# plot\n",
    "newfig()\n",
    "G.plot_path(gs)\n",
    "plt.savefig('MPP_SO3_IVP.pdf')\n",
    "plt.show()"
   ]
  },
  {
   "cell_type": "code",
   "execution_count": null,
   "metadata": {
    "scrolled": false
   },
   "outputs": [],
   "source": [
    "# mpp between g and y\n",
    "alpha = G.MPP(g,y,sigma)\n",
    "(ts,alphas) = G.mpp(alpha,_dts,sigma)\n",
    "(ts,gs) = G.mpprec(g,alphas,_dts,sigma)\n",
    "\n",
    "# plot\n",
    "newfig()\n",
    "G.plotg(g,color='b')\n",
    "G.plotg(y,color='k')\n",
    "G.plot_path(gs)\n",
    "plt.savefig('MPP_SO3_BVP.pdf')\n",
    "plt.show()"
   ]
  },
  {
   "cell_type": "markdown",
   "metadata": {
    "collapsed": true
   },
   "source": [
    "# Most probable paths and development, homogeneous spaces"
   ]
  },
  {
   "cell_type": "code",
   "execution_count": null,
   "metadata": {},
   "outputs": [],
   "source": [
    "# SO(3) acts on S^2\n",
    "from src.manifolds.S2 import *\n",
    "M = S2()\n",
    "print(M)\n",
    "\n",
    "from src.group.quotient import *\n",
    "\n",
    "# base point and projection\n",
    "x = M.coords(jnp.array([0.,0.]))\n",
    "proj = lambda g: M.act(g,M.F(x))"
   ]
  },
  {
   "cell_type": "code",
   "execution_count": null,
   "metadata": {
    "scrolled": false
   },
   "outputs": [],
   "source": [
    "# vector field and lift\n",
    "f = lambda x: 1.*M.StdLog(x,M.F(M.coords(jnp.array([jnp.pi/2.,0.]))))\n",
    "f_emb = lambda x: 1.*M.StdLogEmb(x,M.F(M.coords(jnp.array([jnp.pi/2.,0.]))))\n",
    "def hf_LA(g): # lift of f, translated to Lie algebra\n",
    "    frame,_,_,_,horz = horz_vert_split(g,proj,jnp.eye(G.dim),G,M)\n",
    "    dproj = jnp.einsum('...ij,ijk->...k',jacrev(proj)(g), frame)\n",
    "    return jnp.linalg.lstsq(dproj,f_emb(x))[0]\n",
    "\n",
    "# plot field\n",
    "M.newfig()\n",
    "M.plot_field(f,scale=.25)\n",
    "plt.savefig('MPP_S2_field.pdf')\n",
    "plt.show()"
   ]
  },
  {
   "cell_type": "code",
   "execution_count": null,
   "metadata": {
    "scrolled": false
   },
   "outputs": [],
   "source": [
    "MPP_group.initialize(G,Sigma=jnp.diag(jnp.array([1.,1.,1.])),a=lambda t,g: jax.lax.stop_gradient(hf_LA(g)))\n",
    "\n",
    "# forward equations\n",
    "sigma = jnp.diag(jnp.array([2.,1.,.5]))\n",
    "alpha = jnp.array([0.,0.,-1.])\n",
    "proj_horz = horz_vert_split(G.e,proj,jnp.eye(G.dim),G,M)[2]\n",
    "alpha = jnp.dot(proj_horz,alpha)\n",
    "print(proj_horz,alpha)\n",
    "\n",
    "_dts = dts()\n",
    "(ts,alphags) = G.mpp_drift(alpha,g,_dts,sigma)\n",
    "gs = alphags[:,G.dim:].reshape((-1,G.dim,G.dim))\n",
    "\n",
    "# plot\n",
    "newfig()\n",
    "G.plot_path(gs)\n",
    "plt.savefig('MPP_S2_IVP_lift.pdf')\n",
    "plt.show()\n",
    "\n",
    "# plot\n",
    "newfig()\n",
    "M.plot()\n",
    "M.plot_path(M.acts(gs,M.F(x)))\n",
    "M.plotx(proj(g),color='b')\n",
    "plt.savefig('MPP_S2_IVP.pdf')\n",
    "plt.show()"
   ]
  },
  {
   "cell_type": "code",
   "execution_count": null,
   "metadata": {
    "scrolled": false
   },
   "outputs": [],
   "source": [
    "# mpp between g and y\n",
    "y = (M.invF((proj(gs[-1]),x[1])),x[1])#M.coords(jnp.array([jnp.pi/8,-.4]))\n",
    "alpha = G.MPP_drift(g,y,proj,M,sigma)\n",
    "print(alpha)\n",
    "(ts,alphags) = G.mpp_drift(alpha,g,_dts,sigma)\n",
    "gs = alphags[:,G.dim:].reshape((-1,G.dim,G.dim))\n",
    "\n",
    "# plot\n",
    "newfig()\n",
    "G.plot_path(gs)\n",
    "plt.savefig('MPP_S2_BVP_lift.pdf')\n",
    "plt.show()\n",
    "\n",
    "# plot\n",
    "newfig()\n",
    "M.plot()\n",
    "M.plot_path(M.acts(gs,M.F(x)))\n",
    "M.plotx(proj(g),color='b')\n",
    "M.plotx(y,color='k')\n",
    "plt.savefig('MPP_S2_BVP.pdf')\n",
    "plt.show()"
   ]
  },
  {
   "cell_type": "code",
   "execution_count": null,
   "metadata": {},
   "outputs": [],
   "source": []
  }
 ],
 "metadata": {
  "kernelspec": {
   "display_name": "Python 3 (ipykernel)",
   "language": "python",
   "name": "python3"
  },
  "language_info": {
   "codemirror_mode": {
    "name": "ipython",
    "version": 3
   },
   "file_extension": ".py",
   "mimetype": "text/x-python",
   "name": "python",
   "nbconvert_exporter": "python",
   "pygments_lexer": "ipython3",
   "version": "3.9.14"
  }
 },
 "nbformat": 4,
 "nbformat_minor": 1
}
