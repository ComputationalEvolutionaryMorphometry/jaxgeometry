{
 "cells": [
  {
   "cell_type": "code",
   "execution_count": null,
   "metadata": {
    "ExecuteTime": {
     "end_time": "2021-02-18T19:37:15.727705Z",
     "start_time": "2021-02-18T19:37:15.724106Z"
    },
    "scrolled": true
   },
   "outputs": [],
   "source": [
    "## This file is part of Jax Geometry\n",
    "#\n",
    "# Copyright (C) 2021, Stefan Sommer (sommer@di.ku.dk)\n",
    "# https://bitbucket.org/stefansommer/jaxgeometry\n",
    "#\n",
    "# Jax Geometry is free software: you can redistribute it and/or modify\n",
    "# it under the terms of the GNU General Public License as published by\n",
    "# the Free Software Foundation, either version 3 of the License, or\n",
    "# (at your option) any later version.\n",
    "#\n",
    "# Jax Geometry is distributed in the hope that it will be useful,\n",
    "# but WITHOUT ANY WARRANTY; without even the implied warranty of\n",
    "# MERCHANTABILITY or FITNESS FOR A PARTICULAR PURPOSE.  See the\n",
    "# GNU General Public License for more details.\n",
    "#\n",
    "# You should have received a copy of the GNU General Public License\n",
    "# along with Jax Geometry. If not, see <http://www.gnu.org/licenses/>.\n",
    "#"
   ]
  },
  {
   "cell_type": "markdown",
   "metadata": {},
   "source": [
    "# LDDMM landmark dynamics"
   ]
  },
  {
   "cell_type": "code",
   "execution_count": null,
   "metadata": {},
   "outputs": [],
   "source": [
    "%load_ext autoreload\n",
    "%autoreload 2"
   ]
  },
  {
   "cell_type": "code",
   "execution_count": null,
   "metadata": {
    "ExecuteTime": {
     "end_time": "2021-02-18T19:37:25.519938Z",
     "start_time": "2021-02-18T19:37:15.740700Z"
    },
    "scrolled": false
   },
   "outputs": [],
   "source": [
    "from src.manifolds.landmarks import *\n",
    "M = landmarks(3)\n",
    "print(M)\n",
    "from src.plotting import *"
   ]
  },
  {
   "cell_type": "code",
   "execution_count": null,
   "metadata": {
    "ExecuteTime": {
     "end_time": "2021-02-18T19:37:35.956108Z",
     "start_time": "2021-02-18T19:37:25.523270Z"
    }
   },
   "outputs": [],
   "source": [
    "# Riemannian structure\n",
    "from src.Riemannian import metric\n",
    "metric.initialize(M)"
   ]
  },
  {
   "cell_type": "code",
   "execution_count": null,
   "metadata": {
    "ExecuteTime": {
     "end_time": "2021-02-18T19:37:35.967224Z",
     "start_time": "2021-02-18T19:37:35.958761Z"
    },
    "scrolled": false
   },
   "outputs": [],
   "source": [
    "# example configuration\n",
    "M.k_sigma = jnp.diag(jnp.array([.5,.5]))\n",
    "\n",
    "q = M.coords(jnp.vstack((np.linspace(-.5,.5,M.N),np.zeros(M.N))).T.flatten())\n",
    "v = jnp.array(jnp.vstack((np.zeros(M.N),np.ones(M.N))).T.flatten())\n",
    "p = M.flat(q,v)\n",
    "print(\"q = \", q)\n",
    "print(\"p = \", p)"
   ]
  },
  {
   "cell_type": "markdown",
   "metadata": {},
   "source": [
    "## Geodesics"
   ]
  },
  {
   "cell_type": "code",
   "execution_count": null,
   "metadata": {
    "ExecuteTime": {
     "end_time": "2021-02-18T19:37:52.340300Z",
     "start_time": "2021-02-18T19:37:35.969098Z"
    },
    "scrolled": false
   },
   "outputs": [],
   "source": [
    "# 2nd order geodesic equation\n",
    "from src.Riemannian import geodesic\n",
    "geodesic.initialize(M)\n",
    "\n",
    "(qs,charts) = M.Expt(q,v)\n",
    "M.plot()\n",
    "M.plot_path(zip(qs,charts),v,linewidth=1.5)\n",
    "plt.show()"
   ]
  },
  {
   "cell_type": "code",
   "execution_count": null,
   "metadata": {
    "ExecuteTime": {
     "end_time": "2021-02-18T19:37:57.587203Z",
     "start_time": "2021-02-18T19:37:52.342151Z"
    },
    "scrolled": false
   },
   "outputs": [],
   "source": [
    "# Hamiltonian dynamics\n",
    "from src.dynamics import Hamiltonian\n",
    "Hamiltonian.initialize(M)\n",
    "\n",
    "print(M.H(q,p))\n",
    "\n",
    "# geodesic\n",
    "(qs,charts) = M.Exp_Hamiltoniant(q,p)\n",
    "\n",
    "M.plot()\n",
    "M.plot_path(zip(qs,charts),v)\n",
    "plt.show()\n",
    "\n",
    "# dynamics returning both position and momentum\n",
    "(ts,qps,_) = M.Hamiltonian_dynamics(q,p,dts())\n",
    "ps = qps[:,1,:]\n",
    "print(\"Energy: \",np.array([M.H((q,chart),p) for (q,p,chart) in zip(qs,ps,charts)]))"
   ]
  },
  {
   "cell_type": "markdown",
   "metadata": {},
   "source": [
    "## Boundary value problem"
   ]
  },
  {
   "cell_type": "code",
   "execution_count": null,
   "metadata": {
    "ExecuteTime": {
     "end_time": "2021-02-18T19:38:07.047979Z",
     "start_time": "2021-02-18T19:37:57.589069Z"
    },
    "scrolled": false
   },
   "outputs": [],
   "source": [
    "# Logarithm map\n",
    "from src.Riemannian import Log\n",
    "Log.initialize(M,f=M.Exp_Hamiltonian)\n",
    "\n",
    "p_Log = M.Log(q,(qs[-1],charts[-1]))[0]\n",
    "print(p_Log)\n",
    "print(p)\n",
    "\n",
    "(qs,charts) = M.Exp_Hamiltoniant(q,p_Log)\n",
    "M.plot()\n",
    "M.plot_path(zip(qs,charts),v,linewidth=1.5)\n",
    "plt.show()"
   ]
  },
  {
   "cell_type": "markdown",
   "metadata": {},
   "source": [
    "## Curvature"
   ]
  },
  {
   "cell_type": "code",
   "execution_count": null,
   "metadata": {
    "ExecuteTime": {
     "end_time": "2021-02-18T19:40:37.179062Z",
     "start_time": "2021-02-18T19:38:07.050683Z"
    },
    "scrolled": false
   },
   "outputs": [],
   "source": [
    "from src.Riemannian import curvature\n",
    "curvature.initialize(M)\n",
    "print(\"curvature shape= \", M.R(q).shape)\n",
    "# print(\"curvature = \", M.Rf(q))\n",
    "# Ricci and scalar curvature:\n",
    "print(\"Ricci curvature = \", M.Ricci_curv(q))\n",
    "print(\"Scalar curvature = \", M.S_curv(q))"
   ]
  },
  {
   "cell_type": "code",
   "execution_count": null,
   "metadata": {
    "ExecuteTime": {
     "end_time": "2021-02-18T19:43:24.874335Z",
     "start_time": "2021-02-18T19:40:37.181027Z"
    },
    "scrolled": false
   },
   "outputs": [],
   "source": [
    "# plot min of Ricci curvature tensor between two landmarks, one fixed at x1=(0,0)\n",
    "if M.N == 2:\n",
    "    x1 = jnp.array([0.,0.])\n",
    "\n",
    "    # grids\n",
    "    pts = 40 # even number to avoid (0,0), high value implies nicer plot but extended computation time\n",
    "    border = .2\n",
    "    minx = -border\n",
    "    maxx = +border\n",
    "    miny = -border\n",
    "    maxy = +border\n",
    "    X, Y = np.meshgrid(np.linspace(minx,maxx,pts),np.linspace(miny,maxy,pts))\n",
    "    xy = np.vstack([X.ravel(), Y.ravel()]).T        \n",
    "\n",
    "    # plot\n",
    "    newfig()\n",
    "    cmap = cm.jet\n",
    "    alpha = 1\n",
    "    ax = plt.gca()\n",
    "    fs = np.array([np.min(np.real(np.linalg.eigvals(\n",
    "        np.dot(M.gsharp(M.coords(np.concatenate((x1,x)))),\n",
    "               M.Ricci_curv(M.coords(np.concatenate((x1,x))))\n",
    "              )))) for x in xy])\n",
    "    norm = mpl.colors.Normalize(vmin=np.min(fs),vmax=np.max(fs))\n",
    "    colors = cmap(norm(fs)).reshape(X.shape+(4,))\n",
    "    surf = ax.plot_surface(X, Y, fs.reshape(X.shape), rstride=1, cstride=1, cmap=cmap, facecolors = colors,  linewidth=0., antialiased=True, alpha=alpha, edgecolor=(0,0,0,0), shade=False)\n",
    "    m = cm.ScalarMappable(cmap=surf.cmap,norm=norm)\n",
    "    m.set_array(colors)\n",
    "    plt.colorbar(m, shrink=0.7)\n",
    "    ax.set_xlim3d(minx,maxx), ax.set_ylim3d(miny,maxy), ax.set_zlim3d(np.min(fs)-1,np.max(fs)+1)"
   ]
  },
  {
   "cell_type": "markdown",
   "metadata": {},
   "source": [
    "## Brownian Motion"
   ]
  },
  {
   "cell_type": "code",
   "execution_count": null,
   "metadata": {
    "ExecuteTime": {
     "end_time": "2021-02-18T19:43:52.794066Z",
     "start_time": "2021-02-18T19:43:24.877376Z"
    }
   },
   "outputs": [],
   "source": [
    "# coordinate form\n",
    "from src.stochastics import Brownian_coords\n",
    "Brownian_coords.initialize(M)\n",
    "\n",
    "(ts,xs,charts) = M.Brownian_coords(q,dWs(M.dim,n_steps=1000))\n",
    "\n",
    "# plot\n",
    "M.newfig()\n",
    "M.plot()\n",
    "M.plot_path(zip(xs,charts))\n",
    "plt.show()\n",
    "\n",
    "# plot multiple sample paths\n",
    "N = 5\n",
    "xss = np.zeros((N,xs.shape[0],M.dim))\n",
    "chartss = np.zeros((N,xs.shape[0],q[1].shape[0]))\n",
    "for i in range(N):\n",
    "    (ts,xs,charts) = M.Brownian_coords(q,dWs(M.dim,n_steps=xs.shape[0]))\n",
    "    xss[i] = xs\n",
    "    chartss[i] = charts\n",
    "\n",
    "# plot\n",
    "M.newfig()\n",
    "M.plot()\n",
    "colormap = plt.get_cmap('winter')\n",
    "colors=[colormap(k) for k in np.linspace(0, 1, N)]\n",
    "for i in range(N):\n",
    "    M.plot_path(zip(xss[i],chartss[i]),color=colors[i])\n",
    "M.plotx(q,color='r')\n",
    "plt.show()"
   ]
  },
  {
   "cell_type": "code",
   "execution_count": null,
   "metadata": {},
   "outputs": [],
   "source": []
  }
 ],
 "metadata": {
  "kernelspec": {
   "display_name": "Python 3 (ipykernel)",
   "language": "python",
   "name": "python3"
  },
  "language_info": {
   "codemirror_mode": {
    "name": "ipython",
    "version": 3
   },
   "file_extension": ".py",
   "mimetype": "text/x-python",
   "name": "python",
   "nbconvert_exporter": "python",
   "pygments_lexer": "ipython3",
   "version": "3.9.7"
  }
 },
 "nbformat": 4,
 "nbformat_minor": 1
}
