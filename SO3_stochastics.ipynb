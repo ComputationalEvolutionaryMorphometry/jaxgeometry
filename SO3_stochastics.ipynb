{
 "cells": [
  {
   "cell_type": "code",
   "execution_count": null,
   "metadata": {
    "ExecuteTime": {
     "end_time": "2021-02-18T19:20:32.491118Z",
     "start_time": "2021-02-18T19:20:32.488147Z"
    }
   },
   "outputs": [],
   "source": [
    "## This file is part of Jax Geometry\n",
    "#\n",
    "# Copyright (C) 2021, Stefan Sommer (sommer@di.ku.dk)\n",
    "# https://bitbucket.org/stefansommer/jaxgeometry\n",
    "#\n",
    "# Jax Geometry is free software: you can redistribute it and/or modify\n",
    "# it under the terms of the GNU General Public License as published by\n",
    "# the Free Software Foundation, either version 3 of the License, or\n",
    "# (at your option) any later version.\n",
    "#\n",
    "# Jax Geometry is distributed in the hope that it will be useful,\n",
    "# but WITHOUT ANY WARRANTY; without even the implied warranty of\n",
    "# MERCHANTABILITY or FITNESS FOR A PARTICULAR PURPOSE.  See the\n",
    "# GNU General Public License for more details.\n",
    "#\n",
    "# You should have received a copy of the GNU General Public License\n",
    "# along with Jax Geometry. If not, see <http://www.gnu.org/licenses/>.\n",
    "#"
   ]
  },
  {
   "cell_type": "markdown",
   "metadata": {
    "collapsed": true
   },
   "source": [
    "# Stochastic Lie group dynamics"
   ]
  },
  {
   "cell_type": "code",
   "execution_count": null,
   "metadata": {},
   "outputs": [],
   "source": [
    "%load_ext autoreload\n",
    "%autoreload 2"
   ]
  },
  {
   "cell_type": "code",
   "execution_count": null,
   "metadata": {
    "ExecuteTime": {
     "end_time": "2021-02-18T19:21:18.542521Z",
     "start_time": "2021-02-18T19:20:32.493368Z"
    }
   },
   "outputs": [],
   "source": [
    "# SO(3)\n",
    "from src.groups.SON import *\n",
    "G = SON(3)\n",
    "print(G)\n",
    "\n",
    "# SO(3) acts on S^2\n",
    "from src.manifolds.S2 import *\n",
    "M = S2()\n",
    "print(M)\n",
    "\n",
    "from src.plotting import *"
   ]
  },
  {
   "cell_type": "code",
   "execution_count": null,
   "metadata": {
    "ExecuteTime": {
     "end_time": "2021-02-18T19:22:13.618982Z",
     "start_time": "2021-02-18T19:21:18.544893Z"
    }
   },
   "outputs": [],
   "source": [
    "# setup for testing different versions of stochastic dynamics\n",
    "q = jnp.array([1e-3,0.,0.])\n",
    "g = G.psi(q)\n",
    "v = jnp.array([0.,1.,1.])\n",
    "\n",
    "x = M.coords(jnp.array([0.,0.]))\n",
    "\n",
    "from src.group import invariant_metric\n",
    "invariant_metric.initialize(G)\n",
    "p = G.sharppsi(q,v)\n",
    "mu = G.sharpV(v)\n",
    "print(p)\n",
    "print(mu)\n",
    "\n",
    "from src.group import energy\n",
    "energy.initialize(G)"
   ]
  },
  {
   "cell_type": "code",
   "execution_count": null,
   "metadata": {
    "ExecuteTime": {
     "end_time": "2021-02-18T19:22:36.715889Z",
     "start_time": "2021-02-18T19:22:13.621269Z"
    },
    "scrolled": false
   },
   "outputs": [],
   "source": [
    "# Brownian motion\n",
    "from src.stochastics import Brownian_inv\n",
    "Brownian_inv.initialize(G)\n",
    "\n",
    "_dts = dts(n_steps=1000)\n",
    "(ts,gs,_) = G.Brownian_inv(g,_dts,dWs(G.dim,_dts))\n",
    "\n",
    "# plot\n",
    "newfig()\n",
    "G.plot_path(gs,linewidth=0.1,alpha=0.1)\n",
    "plt.show()\n",
    "#plt.savefig('stocso3.pdf')\n",
    "\n",
    "# on S2\n",
    "newfig()\n",
    "M.plot()\n",
    "M.plot_path(M.acts(gs,M.F(x)))\n",
    "plt.show()\n",
    "#plt.savefig('stocso32.pdf')"
   ]
  },
  {
   "cell_type": "code",
   "execution_count": null,
   "metadata": {
    "ExecuteTime": {
     "end_time": "2021-02-18T19:22:53.566779Z",
     "start_time": "2021-02-18T19:22:36.717802Z"
    }
   },
   "outputs": [],
   "source": [
    "# Brownian processes\n",
    "from src.stochastics import Brownian_process\n",
    "Brownian_process.initialize(G)\n",
    "\n",
    "_dts = dts(n_steps=1000)\n",
    "(ts,gs,_) = G.Brownian_process(g,_dts,dWs(G.dim,_dts))\n",
    "\n",
    "# plot\n",
    "newfig()\n",
    "G.plot_path(gs,color_intensity=1,alpha=0.1)\n",
    "plt.show()"
   ]
  },
  {
   "cell_type": "code",
   "execution_count": null,
   "metadata": {},
   "outputs": [],
   "source": [
    "# Euler-Poincare dynamics\n",
    "from src.group import EulerPoincare\n",
    "EulerPoincare.initialize(G)# Euler-Poincare dynamics"
   ]
  },
  {
   "cell_type": "code",
   "execution_count": null,
   "metadata": {
    "ExecuteTime": {
     "end_time": "2021-02-18T19:23:24.463449Z",
     "start_time": "2021-02-18T19:22:53.568769Z"
    },
    "scrolled": false
   },
   "outputs": [],
   "source": [
    "# Stochastic coadjoint motion\n",
    "from src.stochastics import stochastic_coadjoint\n",
    "stochastic_coadjoint.initialize(G)\n",
    "\n",
    "_dts = dts(n_steps=1000)\n",
    "(ts,mus,_) = G.stochastic_coadjoint(mu,_dts,dWs(G.dim,_dts))\n",
    "(ts,gs) = G.stochastic_coadjointrec(g,mus,_dts)\n",
    "\n",
    "# plot\n",
    "newfig()\n",
    "G.plot_path(gs,color_intensity=1,alpha=0.1)\n",
    "plt.show()\n",
    "#plt.savefig('coadgeo.pdf')"
   ]
  },
  {
   "cell_type": "code",
   "execution_count": null,
   "metadata": {
    "ExecuteTime": {
     "end_time": "2021-02-18T19:24:29.056415Z",
     "start_time": "2021-02-18T19:23:24.465976Z"
    },
    "scrolled": false
   },
   "outputs": [],
   "source": [
    "# Delyon/Hu guided process\n",
    "from src.stochastics.guided_process import *\n",
    "\n",
    "# guide function\n",
    "phi = lambda g,v,sigma: jnp.tensordot(G.inv(sigma),G.LAtoV(G.log(G.invtrns(G.inv(g[0]),v))),(1,0))\n",
    "A = lambda g,v,w,sigma: G.gG(g[0],v,w,sigma)\n",
    "logdetA = lambda x,sigma: -(jnp.linalg.slogdet(s*sigma)[1])**2\n",
    "\n",
    "(Brownian_inv_guided,sde_Brownian_coords_inv,_,_,_) = get_guided(\n",
    "    G,G.sde_Brownian_inv,None,phi,\n",
    "    lambda g,sigma: sigma,A,logdetA,integration='stratonovich')\n",
    "\n",
    "_dts = dts(n_steps=1000)\n",
    "(ts,gs,_,log_likelihood,log_varphi) = Brownian_inv_guided((g,None),G.psi(v),_dts,dWs(G.dim,_dts),\n",
    "                                                          jnp.sqrt(.2)*jnp.eye(G.dim))\n",
    "print(\"log likelihood: \", log_likelihood[-1], \", log varphi: \", log_varphi[-1])\n",
    "\n",
    "newfig()\n",
    "w = G.psi(v)\n",
    "G.plot_path(gs,linewidth=0.1,alpha=0.1)\n",
    "G.plotg(w,color='k')\n",
    "plt.show()\n",
    "\n",
    "# on S2\n",
    "newfig()\n",
    "M.plot()\n",
    "M.plot_path(M.acts(gs,M.F(x)))\n",
    "M.plotx(M.act(w,M.F(x)),color='k')\n",
    "plt.show()"
   ]
  },
  {
   "cell_type": "code",
   "execution_count": null,
   "metadata": {},
   "outputs": [],
   "source": []
  }
 ],
 "metadata": {
  "kernelspec": {
   "display_name": "Python 3 (ipykernel)",
   "language": "python",
   "name": "python3"
  },
  "language_info": {
   "codemirror_mode": {
    "name": "ipython",
    "version": 3
   },
   "file_extension": ".py",
   "mimetype": "text/x-python",
   "name": "python",
   "nbconvert_exporter": "python",
   "pygments_lexer": "ipython3",
   "version": "3.9.14"
  }
 },
 "nbformat": 4,
 "nbformat_minor": 1
}
