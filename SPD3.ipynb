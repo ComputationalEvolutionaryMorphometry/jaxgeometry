{
 "cells": [
  {
   "cell_type": "code",
   "execution_count": null,
   "metadata": {},
   "outputs": [],
   "source": [
    "## This file is part of Jax Geometry\n",
    "#\n",
    "# Copyright (C) 2021, Stefan Sommer (sommer@di.ku.dk)\n",
    "# https://bitbucket.org/stefansommer/jaxgeometry\n",
    "#\n",
    "# Jax Geometry is free software: you can redistribute it and/or modify\n",
    "# it under the terms of the GNU General Public License as published by\n",
    "# the Free Software Foundation, either version 3 of the License, or\n",
    "# (at your option) any later version.\n",
    "#\n",
    "# Jax Geometry is distributed in the hope that it will be useful,\n",
    "# but WITHOUT ANY WARRANTY; without even the implied warranty of\n",
    "# MERCHANTABILITY or FITNESS FOR A PARTICULAR PURPOSE.  See the\n",
    "# GNU General Public License for more details.\n",
    "#\n",
    "# You should have received a copy of the GNU General Public License\n",
    "# along with Jax Geometry. If not, see <http://www.gnu.org/licenses/>.\n",
    "#"
   ]
  },
  {
   "cell_type": "markdown",
   "metadata": {
    "collapsed": true
   },
   "source": [
    "# GLN and SPDN dynamics"
   ]
  },
  {
   "cell_type": "code",
   "execution_count": null,
   "metadata": {},
   "outputs": [],
   "source": [
    "%load_ext autoreload\n",
    "%autoreload 2"
   ]
  },
  {
   "cell_type": "code",
   "execution_count": null,
   "metadata": {
    "scrolled": false
   },
   "outputs": [],
   "source": [
    "from jaxgeometry.groups.GLN import *\n",
    "G = GLN(3)\n",
    "print(G)\n",
    "\n",
    "from jaxgeometry.manifolds.SPDN import *\n",
    "M = SPDN(3)\n",
    "print(M)\n",
    "\n",
    "from jaxgeometry.plotting import *\n",
    "figsize = 12,12\n",
    "plt.rcParams['figure.figsize'] = figsize"
   ]
  },
  {
   "cell_type": "code",
   "execution_count": null,
   "metadata": {},
   "outputs": [],
   "source": [
    "# some values\n",
    "v=np.array([.5,0,0,0,0,0,0,0,0])+1e-6*np.random.normal(size=G.dim) # must be non-singular for Expm derivative\n",
    "xiv=G.VtoLA(v)\n",
    "x = G.exp(xiv)"
   ]
  },
  {
   "cell_type": "code",
   "execution_count": null,
   "metadata": {
    "scrolled": false
   },
   "outputs": [],
   "source": [
    "# visualization\n",
    "newfig()\n",
    "G.plotg(x)\n",
    "plt.show()\n",
    "\n",
    "_dts = dts()\n",
    "gsv = np.zeros((_dts.shape[0],3,3))\n",
    "for i in range(_dts.shape[0]):\n",
    "    gsv[i] = G.exp(_dts[i]*xiv)\n",
    "newfig()\n",
    "G.plot_path(gsv)\n",
    "plt.show()\n",
    "\n",
    "# on SPD(3)\n",
    "newfig()\n",
    "M.plot()\n",
    "x0 = np.eye(M.N).flatten()\n",
    "M.plot_path(M.acts(gsv,x0))\n",
    "plt.show()\n",
    "\n",
    "# ellipsoids\n",
    "plt.rcParams['figure.figsize'] = 23, 10\n",
    "M.plot_path(M.acts(gsv,x0),ellipsoid={'alpha': .2, 'step': _dts.shape[0]/4, 'subplot': True})\n",
    "plt.show()\n",
    "plt.rcParams['figure.figsize'] = figsize"
   ]
  },
  {
   "cell_type": "code",
   "execution_count": null,
   "metadata": {},
   "outputs": [],
   "source": [
    "# define invariant metric on GL(N)\n",
    "from jaxgeometry.group import invariant_metric\n",
    "invariant_metric.initialize(G)\n",
    "from jaxgeometry.group import energy\n",
    "energy.initialize(G)"
   ]
  },
  {
   "cell_type": "code",
   "execution_count": null,
   "metadata": {
    "scrolled": false
   },
   "outputs": [],
   "source": [
    "# Euler-Poincare dynamics\n",
    "from jaxgeometry.group import EulerPoincare\n",
    "EulerPoincare.initialize(G)\n",
    "\n",
    "# geodesic\n",
    "(ts,gsv) = G.ExpEPt(G.e,v)\n",
    "newfig()\n",
    "G.plot_path(gsv)\n",
    "plt.show()\n",
    "(ts,musv) = G.EP(v)\n",
    "xisv = [G.invFl(mu) for mu in musv]\n",
    "print(\"Energy: \",np.array([G.l(xi) for xi in xisv]))\n",
    "\n",
    "# on SPD(3)\n",
    "newfig()\n",
    "M.plot()\n",
    "x0 = np.eye(M.N).flatten()\n",
    "M.plot_path(M.acts(gsv,x0))\n",
    "plt.show()\n",
    "\n",
    "# ellipsoids\n",
    "plt.rcParams['figure.figsize'] = 23, 10\n",
    "M.plot_path(M.acts(gsv,x0),ellipsoid={'alpha': .2, 'step': dts().shape[0]/4, 'subplot': True})\n",
    "plt.show()\n",
    "plt.rcParams['figure.figsize'] = figsize"
   ]
  },
  {
   "cell_type": "code",
   "execution_count": null,
   "metadata": {},
   "outputs": [],
   "source": [
    "# Lie-Poission dynamics\n",
    "from jaxgeometry.group import LiePoisson\n",
    "LiePoisson.initialize(G)\n",
    "\n",
    "# geodesic\n",
    "(ts,gsv) = G.ExpLPt(G.e,v)\n",
    "newfig()\n",
    "G.plot_path(gsv)\n",
    "plt.show()\n",
    "(ts,musv) = G.LP(v)\n",
    "print(\"Energy: \",np.array([G.Hminus(mu) for mu in musv]))"
   ]
  },
  {
   "cell_type": "code",
   "execution_count": null,
   "metadata": {},
   "outputs": [],
   "source": [
    "# Brownian motion\n",
    "from jaxgeometry.stochastics import Brownian_inv\n",
    "Brownian_inv.initialize(G)\n",
    "\n",
    "_dts = dts(n_steps=100)\n",
    "(ts,gs,_) = G.Brownian_inv(G.e,_dts,dWs(G.dim,_dts),jnp.sqrt(.1)*jnp.eye(G.emb_dim))\n",
    "\n",
    "# on SPD(3)\n",
    "newfig()\n",
    "M.plot()\n",
    "x0 = np.eye(M.N).flatten()\n",
    "M.plot_path(M.acts(gs,x0))\n",
    "plt.show()\n",
    "\n",
    "# ellipsoids\n",
    "plt.rcParams['figure.figsize'] = 23, 10\n",
    "M.plot_path(M.acts(gsv,x0),ellipsoid={'alpha': .2, 'step': _dts.shape[0]/8, 'subplot': True})\n",
    "# plt.savefig('SPD3-path.pdf')\n",
    "plt.show()\n",
    "plt.rcParams['figure.figsize'] = figsize"
   ]
  },
  {
   "cell_type": "code",
   "execution_count": null,
   "metadata": {},
   "outputs": [],
   "source": []
  }
 ],
 "metadata": {
  "kernelspec": {
   "display_name": "Python 3 (ipykernel)",
   "language": "python",
   "name": "python3"
  },
  "language_info": {
   "codemirror_mode": {
    "name": "ipython",
    "version": 3
   },
   "file_extension": ".py",
   "mimetype": "text/x-python",
   "name": "python",
   "nbconvert_exporter": "python",
   "pygments_lexer": "ipython3",
   "version": "3.9.14"
  }
 },
 "nbformat": 4,
 "nbformat_minor": 1
}
