{
 "cells": [
  {
   "cell_type": "markdown",
   "metadata": {
    "collapsed": true
   },
   "source": [
    "# Diffusion mean estimation\n",
    "See https://arxiv.org/abs/2105.12061"
   ]
  },
  {
   "cell_type": "code",
   "execution_count": null,
   "metadata": {},
   "outputs": [],
   "source": [
    "%load_ext autoreload\n",
    "%autoreload 2"
   ]
  },
  {
   "cell_type": "code",
   "execution_count": null,
   "metadata": {},
   "outputs": [],
   "source": [
    "from src.manifolds.S2 import *\n",
    "from src.manifolds.torus import *\n",
    "from src.manifolds.cylinder import *\n",
    "M = S2()\n",
    "# M = Torus(params=(.5,1.,[0,0,1]))\n",
    "# M = Cylinder()\n",
    "\n",
    "print(M)\n",
    "from src.plotting import *\n",
    "#%matplotlib notebook"
   ]
  },
  {
   "cell_type": "code",
   "execution_count": null,
   "metadata": {},
   "outputs": [],
   "source": [
    "# Riemannian structure\n",
    "from src.Riemannian import metric\n",
    "metric.initialize(M)\n",
    "\n",
    "# geodesics\n",
    "from src.Riemannian import geodesic\n",
    "geodesic.initialize(M)\n",
    "\n",
    "# Logarithm map\n",
    "from src.Riemannian import Log\n",
    "Log.initialize(M)\n",
    "\n",
    "x = M.coords(jnp.zeros(M.dim))"
   ]
  },
  {
   "cell_type": "markdown",
   "metadata": {},
   "source": [
    "## Sample Data"
   ]
  },
  {
   "cell_type": "code",
   "execution_count": null,
   "metadata": {
    "scrolled": false
   },
   "outputs": [],
   "source": [
    "# coordinate form\n",
    "from src.stochastics import Brownian_coords\n",
    "Brownian_coords.initialize(M)\n",
    "\n",
    "# product sde\n",
    "from src.stochastics import product_sde\n",
    "from src.stochastics.product_sde import tile\n",
    "(product,sde_product,chart_update_product) = product_sde.initialize(M,M.sde_Brownian_coords,M.chart_update_Brownian_coords)\n",
    "\n",
    "N = 100\n",
    "_dts = dts(T=1.)\n",
    "(ts,xss,chartss,*_) = product(tile(x,N),_dts,dWs(N*M.dim,_dts).reshape(-1,N,M.dim),jnp.repeat(.3,N))\n",
    "samples = xss[-1]\n",
    "chartss = chartss[-1]    \n",
    "\n",
    "# plot\n",
    "newfig()\n",
    "M.plot()\n",
    "for i in range(N):\n",
    "    M.plotx((samples[i],chartss[i]))\n",
    "plt.show()"
   ]
  },
  {
   "cell_type": "markdown",
   "metadata": {},
   "source": [
    "## Diffusion mean estimation"
   ]
  },
  {
   "cell_type": "code",
   "execution_count": null,
   "metadata": {
    "scrolled": false
   },
   "outputs": [],
   "source": [
    "from src.statistics import diffusion_mean\n",
    "diffusion_mean.initialize(M)\n",
    "\n",
    "# run once to compile\n",
    "(thetas,chart,log_likelihood,log_likelihoods,thetass) = M.diffusion_mean((samples,chartss),num_steps=2)"
   ]
  },
  {
   "cell_type": "code",
   "execution_count": null,
   "metadata": {
    "scrolled": false
   },
   "outputs": [],
   "source": [
    "# run MLE\n",
    "%time (thetas,chart,log_likelihood,log_likelihoods,thetass) = M.diffusion_mean((samples,chartss))\n",
    "\n",
    "# plot\n",
    "n_steps = log_likelihoods.shape[0]\n",
    "plt.plot(range(n_steps),log_likelihoods)\n",
    "# plt.savefig('ML_likelihoods.pdf')\n",
    "plt.show()\n",
    "plt.plot(range(n_steps),[t[1] for t in thetass])\n",
    "plt.show()\n",
    "plt.plot(range(n_steps),[M.F((t[0],t[2])) for t in thetass])\n",
    "print(M.F((thetas[0],chart)))\n",
    "# plt.savefig('ML_thetas.pdf')\n",
    "plt.show()\n",
    "\n",
    "M.newfig()\n",
    "M.plot()\n",
    "M.plotx((thetas[0],chart),color='k',s=100) # result\n",
    "M.plotx((thetass[0][0],thetass[0][2]),color='b',s=100) # initial point\n",
    "M.plotx(x,color='r',s=100)\n",
    "M.plot_path(list([(t[0],t[2]) for t in thetass]),color='b',linewidth=2.5)\n",
    "\n",
    "# plt.savefig('MLmean_iterations.pdf')\n",
    "plt.show()"
   ]
  },
  {
   "cell_type": "markdown",
   "metadata": {},
   "source": [
    "## Frechet mean"
   ]
  },
  {
   "cell_type": "code",
   "execution_count": null,
   "metadata": {
    "scrolled": false
   },
   "outputs": [],
   "source": [
    "from src.statistics import Frechet_mean\n",
    "Frechet_mean.initialize(M)\n",
    "\n",
    "m,loss,iterations,vs = M.Frechet_mean(zip(samples,chartss),x)\n",
    "# m,loss,iterations = M.Frechet_mean(zip(samples,chartss),x,Log=lambda *args: M.Log(*args))\n",
    "print(\"loss = \", loss)\n",
    "print(\"mean = \", m)\n",
    "\n",
    "# plot\n",
    "newfig()\n",
    "M.plot()\n",
    "M.plotx(m,s=100,color='g')\n",
    "\n",
    "for i in range(len(samples)):\n",
    "    try:\n",
    "        (xs,charts) = M.Expt(m,vs[i])\n",
    "        M.plot_path(zip(xs,charts))\n",
    "    except:\n",
    "        pass\n",
    "    M.plotx((samples[i],chartss[i]),linewidth = 1.5, s=50, color='r')\n",
    "M.plot_path(iterations,color='y')\n",
    "plt.show()"
   ]
  },
  {
   "cell_type": "code",
   "execution_count": null,
   "metadata": {},
   "outputs": [],
   "source": []
  }
 ],
 "metadata": {
  "kernelspec": {
   "display_name": "Python 3 (ipykernel)",
   "language": "python",
   "name": "python3"
  },
  "language_info": {
   "codemirror_mode": {
    "name": "ipython",
    "version": 3
   },
   "file_extension": ".py",
   "mimetype": "text/x-python",
   "name": "python",
   "nbconvert_exporter": "python",
   "pygments_lexer": "ipython3",
   "version": "3.9.14"
  }
 },
 "nbformat": 4,
 "nbformat_minor": 2
}
