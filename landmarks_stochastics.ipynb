{
 "cells": [
  {
   "cell_type": "code",
   "execution_count": null,
   "metadata": {
    "scrolled": true
   },
   "outputs": [],
   "source": [
    "# # This file is part of Theano Geometry\n",
    "#\n",
    "# Copyright (C) 2017, Stefan Sommer (sommer@di.ku.dk)\n",
    "# https://bitbucket.org/stefansommer/theanogemetry\n",
    "#\n",
    "# Theano Geometry is free software: you can redistribute it and/or modify\n",
    "# it under the terms of the GNU General Public License as published by\n",
    "# the Free Software Foundation, either version 3 of the License, or\n",
    "# (at your option) any later version.\n",
    "#\n",
    "# Theano Geometry is distributed in the hope that it will be useful,\n",
    "# but WITHOUT ANY WARRANTY; without even the implied warranty of\n",
    "# MERCHANTABILITY or FITNESS FOR A PARTICULAR PURPOSE.  See the\n",
    "# GNU General Public License for more details.\n",
    "#\n",
    "# You should have received a copy of the GNU General Public License\n",
    "# along with Theano Geometry. If not, see <http://www.gnu.org/licenses/>.\n",
    "#"
   ]
  },
  {
   "cell_type": "markdown",
   "metadata": {},
   "source": [
    "# LDDMM landmark stochastic dynamics"
   ]
  },
  {
   "cell_type": "code",
   "execution_count": null,
   "metadata": {},
   "outputs": [],
   "source": [
    "%load_ext autoreload\n",
    "%autoreload 2"
   ]
  },
  {
   "cell_type": "code",
   "execution_count": null,
   "metadata": {
    "scrolled": false
   },
   "outputs": [],
   "source": [
    "from src.manifolds.landmarks import *\n",
    "M = landmarks(6)\n",
    "print(M)\n",
    "from src.plotting import *"
   ]
  },
  {
   "cell_type": "code",
   "execution_count": null,
   "metadata": {},
   "outputs": [],
   "source": [
    "# Riemannian structure\n",
    "from src.Riemannian import metric\n",
    "metric.initialize(M)"
   ]
  },
  {
   "cell_type": "code",
   "execution_count": null,
   "metadata": {
    "scrolled": true
   },
   "outputs": [],
   "source": [
    "# example configuration\n",
    "M.k_sigma = jnp.diag(jnp.array([.5,.5]))\n",
    "\n",
    "q = M.coords(jnp.vstack((np.linspace(-.5,.5,M.N),np.zeros(M.N))).T.flatten())\n",
    "v = jnp.array(jnp.vstack((np.zeros(M.N),np.ones(M.N))).T.flatten())\n",
    "p = M.flat(q,v)\n",
    "print(\"q = \", q)\n",
    "print(\"p = \", p)"
   ]
  },
  {
   "cell_type": "markdown",
   "metadata": {},
   "source": [
    "## Brownian Motion"
   ]
  },
  {
   "cell_type": "code",
   "execution_count": null,
   "metadata": {},
   "outputs": [],
   "source": [
    "# coordinate form\n",
    "from src.stochastics import Brownian_coords\n",
    "Brownian_coords.initialize(M)\n",
    "\n",
    "(ts,xs,charts) = M.Brownian_coords(q,dWs(M.dim,n_steps=1000))\n",
    "\n",
    "# plot\n",
    "M.newfig()\n",
    "M.plot()\n",
    "M.plot_path(zip(xs,charts))\n",
    "plt.show()\n",
    "\n",
    "# plot multiple sample paths\n",
    "N = 5\n",
    "xss = np.zeros((N,xs.shape[0],M.dim))\n",
    "chartss = np.zeros((N,xs.shape[0],q[1].shape[0]))\n",
    "for i in range(N):\n",
    "    (ts,xs,charts) = M.Brownian_coords(q,dWs(M.dim,n_steps=xs.shape[0]))\n",
    "    xss[i] = xs\n",
    "    chartss[i] = charts\n",
    "\n",
    "# plot\n",
    "M.newfig()\n",
    "M.plot()\n",
    "colormap = plt.get_cmap('winter')\n",
    "colors=[colormap(k) for k in np.linspace(0, 1, N)]\n",
    "for i in range(N):\n",
    "    M.plot_path(zip(xss[i],chartss[i]),color=colors[i])\n",
    "M.plotx(q,color='r')\n",
    "plt.show()"
   ]
  },
  {
   "cell_type": "markdown",
   "metadata": {},
   "source": [
    "# Langevin equations\n",
    "see https://arxiv.org/abs/1605.09276"
   ]
  },
  {
   "cell_type": "code",
   "execution_count": null,
   "metadata": {},
   "outputs": [],
   "source": [
    "from src.stochastics import Langevin\n",
    "Langevin.initialize(M)\n",
    "\n",
    "(ts,qps,charts) = M.Langevin(q,p,.5,.25,dWs(M.dim))\n",
    "\n",
    "# plot\n",
    "M.newfig()\n",
    "M.plot()\n",
    "M.plot_path(zip(qps[:,0,:],charts))\n",
    "plt.show()"
   ]
  },
  {
   "cell_type": "markdown",
   "metadata": {},
   "source": [
    "## Stochastic EPDiff / Eulerian"
   ]
  },
  {
   "cell_type": "code",
   "execution_count": null,
   "metadata": {},
   "outputs": [],
   "source": [
    "# define noise field grid\n",
    "minx = -1; maxx = 1\n",
    "miny = -1; maxy = 1\n",
    "pts = 5\n",
    "\n",
    "X, Y = jnp.meshgrid(np.linspace(minx,maxx,pts),np.linspace(miny,maxy,pts))\n",
    "xy = jnp.vstack([X.ravel(), Y.ravel()]).T\n",
    "sigmas_x = jnp.hstack((xy,xy)).reshape((-1,2))\n",
    "sigmas_a = .05*jnp.tile(np.eye(2),(sigmas_x.shape[0]//2,1))\n",
    "#sigmas_x = np.array([[0.,0.]])\n",
    "#sigmas_a = np.array([[.1,0.]])\n",
    "J = sigmas_x.shape[0]\n",
    "\n",
    "# noise kernels\n",
    "k_alpha = 1.\n",
    "k_sigma = jnp.diag(jnp.array([(maxx-minx)/(pts-1),(maxy-miny)/(pts-1)]))\n",
    "inv_k_sigma = jnp.linalg.inv(k_sigma)\n",
    "k = lambda x: M.k_alpha*jnp.exp(-.5*jnp.square(jnp.tensordot(x,M.inv_k_sigma,(x.ndim-1,1))).sum(x.ndim-1))\n",
    "\n",
    "# initialize with specified noise kernel\n",
    "from src.stochastics import Eulerian\n",
    "Eulerian.initialize(M,k=k)\n",
    "\n",
    "# integrate\n",
    "(ts,qps,charts) = M.Eulerian(q,p,sigmas_x,sigmas_a,dWs(J))\n",
    "\n",
    "# plot\n",
    "M.newfig()\n",
    "M.plot()\n",
    "M.plot_path(zip(qps[:,0,:],charts))\n",
    "plt.plot(sigmas_x[:,0],sigmas_x[:,1],'x')\n",
    "plt.show()"
   ]
  },
  {
   "cell_type": "code",
   "execution_count": null,
   "metadata": {},
   "outputs": [],
   "source": []
  }
 ],
 "metadata": {
  "kernelspec": {
   "display_name": "Python 3 (ipykernel)",
   "language": "python",
   "name": "python3"
  },
  "language_info": {
   "codemirror_mode": {
    "name": "ipython",
    "version": 3
   },
   "file_extension": ".py",
   "mimetype": "text/x-python",
   "name": "python",
   "nbconvert_exporter": "python",
   "pygments_lexer": "ipython3",
   "version": "3.9.5"
  }
 },
 "nbformat": 4,
 "nbformat_minor": 1
}
