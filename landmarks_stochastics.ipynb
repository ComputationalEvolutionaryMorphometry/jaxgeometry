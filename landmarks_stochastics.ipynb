{
 "cells": [
  {
   "cell_type": "code",
   "execution_count": null,
   "metadata": {
    "scrolled": true
   },
   "outputs": [],
   "source": [
    "## This file is part of Jax Geometry\n",
    "#\n",
    "# Copyright (C) 2021, Stefan Sommer (sommer@di.ku.dk)\n",
    "# https://bitbucket.org/stefansommer/jaxgeometry\n",
    "#\n",
    "# Jax Geometry is free software: you can redistribute it and/or modify\n",
    "# it under the terms of the GNU General Public License as published by\n",
    "# the Free Software Foundation, either version 3 of the License, or\n",
    "# (at your option) any later version.\n",
    "#\n",
    "# Jax Geometry is distributed in the hope that it will be useful,\n",
    "# but WITHOUT ANY WARRANTY; without even the implied warranty of\n",
    "# MERCHANTABILITY or FITNESS FOR A PARTICULAR PURPOSE.  See the\n",
    "# GNU General Public License for more details.\n",
    "#\n",
    "# You should have received a copy of the GNU General Public License\n",
    "# along with Jax Geometry. If not, see <http://www.gnu.org/licenses/>.\n",
    "#"
   ]
  },
  {
   "cell_type": "markdown",
   "metadata": {},
   "source": [
    "# LDDMM landmark stochastic dynamics"
   ]
  },
  {
   "cell_type": "code",
   "execution_count": null,
   "metadata": {},
   "outputs": [],
   "source": [
    "%load_ext autoreload\n",
    "%autoreload 2"
   ]
  },
  {
   "cell_type": "code",
   "execution_count": null,
   "metadata": {
    "scrolled": false
   },
   "outputs": [],
   "source": [
    "from src.manifolds.landmarks import *\n",
    "M = landmarks(3)\n",
    "print(M)\n",
    "from src.plotting import *"
   ]
  },
  {
   "cell_type": "code",
   "execution_count": null,
   "metadata": {},
   "outputs": [],
   "source": [
    "# Riemannian structure\n",
    "from src.Riemannian import metric\n",
    "metric.initialize(M)"
   ]
  },
  {
   "cell_type": "markdown",
   "metadata": {},
   "source": [
    "## Brownian Motion"
   ]
  },
  {
   "cell_type": "code",
   "execution_count": null,
   "metadata": {
    "scrolled": false
   },
   "outputs": [],
   "source": [
    "# coordinate form\n",
    "from src.stochastics import Brownian_coords\n",
    "Brownian_coords.initialize(M)\n",
    "\n",
    "q = M.coords(jnp.vstack((np.linspace(-.5,.5,M.N),np.zeros(M.N))).T.flatten())\n",
    "\n",
    "_dts = dts(n_steps=1000)\n",
    "(ts,xs,charts) = M.Brownian_coords(q,_dts,dWs(M.dim,_dts))\n",
    "\n",
    "# plot\n",
    "M.newfig()\n",
    "M.plot()\n",
    "M.plotx(q,color='r')\n",
    "M.plot_path(zip(xs,charts))\n",
    "plt.show()\n",
    "\n",
    "# plot multiple sample paths\n",
    "N = 5\n",
    "xss = np.zeros((N,xs.shape[0],M.dim))\n",
    "chartss = np.zeros((N,xs.shape[0],q[1].shape[0]))\n",
    "for i in range(N):\n",
    "    (ts,xs,charts) = M.Brownian_coords(q,_dts,dWs(M.dim,_dts))\n",
    "    xss[i] = xs\n",
    "    chartss[i] = charts\n",
    "\n",
    "# plot\n",
    "M.newfig()\n",
    "M.plot()\n",
    "colormap = plt.get_cmap('winter')\n",
    "colors=[colormap(k) for k in np.linspace(0, 1, N)]\n",
    "for i in range(N):\n",
    "    M.plot_path(zip(xss[i],chartss[i]),color=colors[i])\n",
    "M.plotx(q,color='r')\n",
    "plt.show()"
   ]
  },
  {
   "cell_type": "markdown",
   "metadata": {},
   "source": [
    "# Langevin equations\n",
    "see https://arxiv.org/abs/1605.09276"
   ]
  },
  {
   "cell_type": "code",
   "execution_count": null,
   "metadata": {},
   "outputs": [],
   "source": [
    "from src.stochastics import Langevin\n",
    "Langevin.initialize(M)\n",
    "\n",
    "M.setN(16)\n",
    "q = M.coords(jnp.vstack((np.linspace(-.5,.5,M.N),np.zeros(M.N))).T.flatten())\n",
    "v = jnp.array(jnp.vstack((np.zeros(M.N),np.ones(M.N))).T.flatten())\n",
    "\n",
    "p = M.flat(q,v)\n",
    "print(\"q = \", q)\n",
    "print(\"p = \", p)\n",
    "\n",
    "(ts,qps,charts) = M.Langevin(q,p,.5,.25,dts(),dWs(M.dim))\n",
    "\n",
    "# plot\n",
    "M.newfig()\n",
    "M.plot()\n",
    "M.plot_path(zip(qps[:,0,:],charts))\n",
    "plt.show()"
   ]
  },
  {
   "cell_type": "markdown",
   "metadata": {},
   "source": [
    "## Stochastic EPDiff / Eulerian"
   ]
  },
  {
   "cell_type": "code",
   "execution_count": null,
   "metadata": {},
   "outputs": [],
   "source": [
    "# define noise field grid\n",
    "minx = -1; maxx = 1\n",
    "miny = -1; maxy = 1\n",
    "pts = 5\n",
    "\n",
    "X, Y = jnp.meshgrid(np.linspace(minx,maxx,pts),np.linspace(miny,maxy,pts))\n",
    "xy = jnp.vstack([X.ravel(), Y.ravel()]).T\n",
    "sigmas_x = jnp.hstack((xy,xy)).reshape((-1,2))\n",
    "sigmas_a = .05*jnp.tile(np.eye(2),(sigmas_x.shape[0]//2,1))\n",
    "#sigmas_x = np.array([[0.,0.]])\n",
    "#sigmas_a = np.array([[.1,0.]])\n",
    "J = sigmas_x.shape[0]\n",
    "\n",
    "# noise kernels\n",
    "k_alpha = 1.\n",
    "k_sigma = jnp.diag(jnp.array([(maxx-minx)/(pts-1),(maxy-miny)/(pts-1)]))\n",
    "inv_k_sigma = jnp.linalg.inv(k_sigma)\n",
    "k = lambda x: M.k_alpha*jnp.exp(-.5*jnp.square(jnp.tensordot(x,M.inv_k_sigma,(x.ndim-1,1))).sum(x.ndim-1))\n",
    "\n",
    "# initialize with specified noise kernel\n",
    "from src.stochastics import Eulerian\n",
    "Eulerian.initialize(M,k=k)\n",
    "\n",
    "# integrate\n",
    "(ts,qps,charts) = M.Eulerian(q,p,sigmas_x,sigmas_a,dts(),dWs(J))\n",
    "\n",
    "# plot\n",
    "M.newfig()\n",
    "M.plot()\n",
    "M.plot_path(zip(qps[:,0,:],charts))\n",
    "plt.plot(sigmas_x[:,0],sigmas_x[:,1],'x')\n",
    "plt.show()"
   ]
  },
  {
   "cell_type": "code",
   "execution_count": null,
   "metadata": {},
   "outputs": [],
   "source": [
    "from scipy import misc\n",
    "import jax.scipy as jsp\n",
    "\n",
    "# generate stochastic images\n",
    "global key\n",
    "keys = jax.random.split(key)\n",
    "key = keys[0]\n",
    "subkeys = keys[1:]\n",
    "%time images = jnp.sqrt(T/n_steps)*random.normal(subkeys[0],(n_steps,64,64,M.m))\n",
    "image = images[0,:,:]\n",
    "\n",
    "print(\"Size of noise basis: \", images.shape[1]*images.shape[2])\n",
    "\n",
    "# Smooth the noisy image with a 2D Gaussian smoothing kernel.\n",
    "scale = 1\n",
    "x = jnp.linspace(-3, 3, 17)\n",
    "window = jsp.stats.norm.pdf(x,0,scale) * jsp.stats.norm.pdf(x[:, None],0,scale)\n",
    "%time smooth_image = jax.vmap(lambda im: jsp.signal.convolve(im, window, mode='same'),2,2)(image)\n",
    "\n",
    "# plot\n",
    "fig, ax = plt.subplots(M.m, 2, figsize=(12, 10))\n",
    "for i in range(M.m):\n",
    "    ax[i,0].imshow(image[:,:,i], cmap='binary_r')\n",
    "    ax[i,0].set_title('original')\n",
    "    ax[i,1].imshow(smooth_image[:,:,i], cmap='binary_r')\n",
    "    ax[i,1].set_title('convolved');\n"
   ]
  },
  {
   "cell_type": "code",
   "execution_count": null,
   "metadata": {},
   "outputs": [],
   "source": [
    "X, Y = np.meshgrid(jnp.linspace(0,63,35),jnp.linspace(0,63,35))\n",
    "new_image = jax.vmap(lambda im: jsp.ndimage.map_coordinates(im.T,jnp.vstack((X.flatten(),Y.flatten())),order=1),\n",
    "                     2,1)(smooth_image).reshape(X.shape+(M.m,))\n",
    "fig, ax = plt.subplots(M.m, 2, figsize=(12, 10))\n",
    "for i in range(M.m):\n",
    "    ax[i,0].imshow(smooth_image[:,:,i], cmap='binary_r')\n",
    "    ax[i,0].set_title('convolvedl')\n",
    "    ax[i,1].imshow(new_image[:,:,i], cmap='binary_r')\n",
    "    ax[i,1].set_title('interploated');"
   ]
  },
  {
   "cell_type": "code",
   "execution_count": null,
   "metadata": {
    "scrolled": false
   },
   "outputs": [],
   "source": [
    "from matplotlib import cm\n",
    "(_,ax) = newfig3d()\n",
    "X, Y = np.meshgrid(x,x)\n",
    "surf = ax.plot_surface(X,Y,window,cmap=cm.coolwarm)\n",
    "# Customize the z axis.\n",
    "ax.set_zlim(0, .2)\n",
    "fig.colorbar(surf, shrink=0.5, aspect=5, ax=ax)\n",
    "plt.show()"
   ]
  },
  {
   "cell_type": "code",
   "execution_count": null,
   "metadata": {
    "scrolled": false
   },
   "outputs": [],
   "source": [
    "# smoothing kernel for Q^{1/2}\n",
    "kernel_dim = 17\n",
    "x = jnp.linspace(-3, 3, kernel_dim)\n",
    "window = jsp.stats.norm.pdf(x) * jsp.stats.norm.pdf(x[:, None],0)\n",
    "convolve = jax.vmap(lambda dW: jsp.signal.convolve(dW, window, mode='same'),2,2)\n",
    "interpolate = jax.vmap(lambda Q12dW,q: jsp.ndimage.map_coordinates(Q12dW.T,q.T,order=1),(2,None),1)\n",
    "\n",
    "def sde_Eulerian_infdim_noise(q,dW):\n",
    "    # multiply noise on Q^{1/2}\n",
    "    sqrtQdW = convolve(dW)\n",
    "    # evluate at x\n",
    "    dx = interpolate(sqrtQdW,q.reshape((M.N,M.m)))\n",
    "    return dx\n",
    "\n",
    "# generate noise for all t\n",
    "global key\n",
    "keys = jax.random.split(key)\n",
    "key = keys[0]\n",
    "subkeys = keys[1:]\n",
    "%time dW = jnp.sqrt(T/n_steps)*random.normal(subkeys[0],(n_steps,64,64,M.m))\n",
    "\n",
    "# evaluate sde function on position q and noise dW\n",
    "sde_Eulerian_infdim_noise(q[0],dW[0])\n",
    "%time sde_Eulerian_infdim_noise(q[0],dW[0])\n",
    "None"
   ]
  },
  {
   "cell_type": "code",
   "execution_count": null,
   "metadata": {},
   "outputs": [],
   "source": [
    "M.N = 64\n",
    "phis = jnp.linspace(0,2*jnp.pi,M.N)\n",
    "q = M.coords(jnp.vstack((jnp.cos(phis),jnp.sin(phis))).T.flatten())\n",
    "\n",
    "# # plot\n",
    "# M.newfig()\n",
    "# M.plot()\n",
    "# M.plotx(q)\n",
    "# plt.show()"
   ]
  },
  {
   "cell_type": "code",
   "execution_count": null,
   "metadata": {},
   "outputs": [],
   "source": [
    "# generate noise for all t\n",
    "global key\n",
    "keys = jax.random.split(key)\n",
    "key = keys[0]\n",
    "subkeys = keys[1:]\n",
    "dW = jnp.sqrt(T/n_steps)*random.normal(subkeys[0],(n_steps,64,64,M.m))\n",
    "\n",
    "coords_to_pixels = lambda q: (24*q.reshape((-1,M.m))+jnp.array([32,32])[np.newaxis,:])\n",
    "\n",
    "# smoothing kernel for Q^{1/2}\n",
    "kernel_dim = 17\n",
    "x = jnp.linspace(-3, 3, kernel_dim)\n",
    "window = lambda amp,scale: amp*scale*jnp.sqrt(2*jnp.pi)*jsp.stats.norm.pdf(x,0,scale) * jsp.stats.norm.pdf(x[:, None],0,scale)\n",
    "# convolve = jax.vmap(lambda amp,scale,dW: jsp.signal.convolve(dW, window(amp,scale), mode='same'),(None,None,2),2)\n",
    "convolve = jax.vmap(jax.vmap(lambda amp,scale,dW: jsp.signal.convolve(dW, window(amp,scale), mode='same'),(None,None,2),2),(None,None,0),0)\n",
    "interpolate = jax.vmap(lambda Q12dW,q: jsp.ndimage.map_coordinates(Q12dW.T,coords_to_pixels(q).T,order=1),(2,None),1)\n",
    "    \n",
    "def sde_Eulerian_infdim_noise(c,y):\n",
    "    t,q,_ = c\n",
    "    dt,sqrtQdW = y\n",
    "\n",
    "    X = None # to be implemented\n",
    "    det = jnp.zeros_like(q)\n",
    "    # evaluate at x\n",
    "    sto = interpolate(sqrtQdW,q.reshape((M.N,M.m))).flatten()\n",
    "    return (det,sto,X)\n",
    "\n",
    "Eulerian_q = lambda q,dts,dW: integrate_sde(sde_Eulerian_infdim_noise,integrator_ito,None,q[0],q[1],dts,dW)\n",
    "Eulerian = lambda q,amp,scale,dts,dW: Eulerian_q(q,dts,convolve(amp,scale,dW))[0:3]\n",
    "    \n",
    "# integrate\n",
    "amp = .1\n",
    "scale = 10\n",
    "Eulerian(q,amp,scale,dts(),dW)\n",
    "%time (ts,qs,charts) = Eulerian(q,amp,scale,dts(),dW)\n",
    "print(qs.shape)\n",
    "\n",
    "# # plot\n",
    "# M.newfig()\n",
    "# M.plot()\n",
    "# M.plot_path(zip(qs,charts))\n",
    "# plt.show()"
   ]
  },
  {
   "cell_type": "code",
   "execution_count": null,
   "metadata": {},
   "outputs": [],
   "source": [
    "import matplotlib.pyplot as plt\n",
    "from matplotlib.animation import FuncAnimation\n",
    "from IPython import display\n",
    "\n",
    "# Turn off matplotlib plot in Notebook\n",
    "plt.ioff()\n",
    "\n",
    "fig, ax = plt.subplots()\n",
    "\n",
    "line, = ax.plot([],'*')\n",
    "\n",
    "ax.set_xlim(-1.2, 1.2)\n",
    "ax.set_ylim(-1.2, 1.2)\n",
    "\n",
    "\n",
    "def animate(i):\n",
    "    line.set_data((qs[i].reshape((-1,M.m))[:,0],qs[i].reshape((-1,M.m))[:,1]))\n",
    "    return line\n",
    "\n",
    "# animate(0)\n",
    "# plt.show()\n",
    "\n",
    "anim = FuncAnimation(fig, animate, frames=n_steps, interval=100)\n",
    "\n",
    "video = anim.to_html5_video()\n",
    "html = display.HTML(video)\n",
    "display.display(html)\n",
    "plt.close()"
   ]
  },
  {
   "cell_type": "code",
   "execution_count": null,
   "metadata": {},
   "outputs": [],
   "source": []
  }
 ],
 "metadata": {
  "kernelspec": {
   "display_name": "Python 3 (ipykernel)",
   "language": "python",
   "name": "python3"
  },
  "language_info": {
   "codemirror_mode": {
    "name": "ipython",
    "version": 3
   },
   "file_extension": ".py",
   "mimetype": "text/x-python",
   "name": "python",
   "nbconvert_exporter": "python",
   "pygments_lexer": "ipython3",
   "version": "3.9.7"
  }
 },
 "nbformat": 4,
 "nbformat_minor": 1
}
