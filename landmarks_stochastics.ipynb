{
 "cells": [
  {
   "cell_type": "code",
   "execution_count": null,
   "metadata": {
    "scrolled": true
   },
   "outputs": [],
   "source": [
    "## This file is part of Jax Geometry\n",
    "#\n",
    "# Copyright (C) 2021, Stefan Sommer (sommer@di.ku.dk)\n",
    "# https://bitbucket.org/stefansommer/jaxgeometry\n",
    "#\n",
    "# Jax Geometry is free software: you can redistribute it and/or modify\n",
    "# it under the terms of the GNU General Public License as published by\n",
    "# the Free Software Foundation, either version 3 of the License, or\n",
    "# (at your option) any later version.\n",
    "#\n",
    "# Jax Geometry is distributed in the hope that it will be useful,\n",
    "# but WITHOUT ANY WARRANTY; without even the implied warranty of\n",
    "# MERCHANTABILITY or FITNESS FOR A PARTICULAR PURPOSE.  See the\n",
    "# GNU General Public License for more details.\n",
    "#\n",
    "# You should have received a copy of the GNU General Public License\n",
    "# along with Jax Geometry. If not, see <http://www.gnu.org/licenses/>.\n",
    "#"
   ]
  },
  {
   "cell_type": "markdown",
   "metadata": {},
   "source": [
    "# LDDMM landmark stochastic dynamics"
   ]
  },
  {
   "cell_type": "code",
   "execution_count": null,
   "metadata": {},
   "outputs": [],
   "source": [
    "%load_ext autoreload\n",
    "%autoreload 2"
   ]
  },
  {
   "cell_type": "code",
   "execution_count": null,
   "metadata": {
    "scrolled": false
   },
   "outputs": [],
   "source": [
    "from src.manifolds.landmarks import *\n",
    "M = landmarks(3)\n",
    "print(M)\n",
    "from src.plotting import *"
   ]
  },
  {
   "cell_type": "code",
   "execution_count": null,
   "metadata": {},
   "outputs": [],
   "source": [
    "# Riemannian structure\n",
    "from src.Riemannian import metric\n",
    "metric.initialize(M)"
   ]
  },
  {
   "cell_type": "markdown",
   "metadata": {},
   "source": [
    "## Brownian Motion"
   ]
  },
  {
   "cell_type": "code",
   "execution_count": null,
   "metadata": {
    "scrolled": false
   },
   "outputs": [],
   "source": [
    "# coordinate form\n",
    "from src.stochastics import Brownian_coords\n",
    "Brownian_coords.initialize(M)\n",
    "\n",
    "q = M.coords(jnp.vstack((np.linspace(-.5,.5,M.N),np.zeros(M.N))).T.flatten())\n",
    "\n",
    "_dts = dts(n_steps=1000)\n",
    "(ts,xs,charts) = M.Brownian_coords(q,_dts,dWs(M.dim,_dts))\n",
    "\n",
    "# plot\n",
    "M.newfig()\n",
    "M.plot()\n",
    "M.plotx(q,color='r')\n",
    "M.plot_path(zip(xs,charts))\n",
    "plt.show()\n",
    "\n",
    "# plot multiple sample paths\n",
    "N = 5\n",
    "xss = np.zeros((N,xs.shape[0],M.dim))\n",
    "chartss = np.zeros((N,xs.shape[0],q[1].shape[0]))\n",
    "for i in range(N):\n",
    "    (ts,xs,charts) = M.Brownian_coords(q,_dts,dWs(M.dim,_dts))\n",
    "    xss[i] = xs\n",
    "    chartss[i] = charts\n",
    "\n",
    "# plot\n",
    "M.newfig()\n",
    "M.plot()\n",
    "colormap = plt.get_cmap('winter')\n",
    "colors=[colormap(k) for k in np.linspace(0, 1, N)]\n",
    "for i in range(N):\n",
    "    M.plot_path(zip(xss[i],chartss[i]),color=colors[i])\n",
    "M.plotx(q,color='r')\n",
    "plt.show()"
   ]
  },
  {
   "cell_type": "markdown",
   "metadata": {},
   "source": [
    "# Langevin equations\n",
    "see https://arxiv.org/abs/1605.09276"
   ]
  },
  {
   "cell_type": "code",
   "execution_count": null,
   "metadata": {},
   "outputs": [],
   "source": [
    "from src.stochastics import Langevin\n",
    "Langevin.initialize(M)\n",
    "\n",
    "M.setN(4)\n",
    "q = M.coords(jnp.vstack((np.linspace(-.5,.5,M.N),np.zeros(M.N))).T.flatten())\n",
    "v = jnp.array(jnp.vstack((np.zeros(M.N),np.ones(M.N))).T.flatten())\n",
    "\n",
    "p = M.flat(q,v)\n",
    "print(\"q = \", q)\n",
    "print(\"p = \", p)\n",
    "\n",
    "_dts = dts(n_steps=1000)\n",
    "(ts,qps,charts) = M.Langevin(q,p,.5,.25,_dts,dWs(M.dim,_dts))\n",
    "\n",
    "# plot\n",
    "M.newfig()\n",
    "M.plot()\n",
    "M.plot_path(zip(qps[:,0,:],charts))\n",
    "plt.show()"
   ]
  },
  {
   "cell_type": "markdown",
   "metadata": {},
   "source": [
    "## Stochastic EPDiff / Eulerian"
   ]
  },
  {
   "cell_type": "code",
   "execution_count": null,
   "metadata": {},
   "outputs": [],
   "source": [
    "minx = -2; maxx = 2\n",
    "miny = -2; maxy = 2\n",
    "\n",
    "sigmas_x = np.array([[-.5,0.],[-.5,0.],[.5,0.],[.5,0.]])\n",
    "sigmas_a = np.array([[1.,0.],[0.,1.],[1.,0.],[0.,1.]])\n",
    "\n",
    "# noise kernels\n",
    "k_alpha = .5\n",
    "k_sigma = .5*jnp.diag(jnp.ones(M.m))\n",
    "    \n",
    "J = sigmas_x.shape[0]  \n",
    "print(k_alpha,k_sigma)\n",
    "inv_k_sigma = jnp.linalg.inv(k_sigma)\n",
    "k = lambda x: k_alpha*jnp.exp(-.5*jnp.square(jnp.tensordot(x,inv_k_sigma,(x.ndim-1,1))).sum(x.ndim-1))\n",
    "k_q = lambda q1,q2: k(q1.reshape((-1,M.m))[:,np.newaxis,:]-q2.reshape((-1,M.m))[np.newaxis,:,:])\n",
    "sigmas = lambda x: jnp.einsum('ij,jd->ijd',k_q(x,sigmas_x),sigmas_a)\n",
    "\n",
    "# plot all fields\n",
    "pts = 20\n",
    "x,y = np.meshgrid(np.linspace(minx,maxx,pts),np.linspace(miny,maxy,pts))\n",
    "x = x.flatten(); y = y.flatten()\n",
    "xy = jnp.vstack((x,y)).T\n",
    "\n",
    "# compute values\n",
    "sigmasxy = sigmas(xy)\n",
    "\n",
    "import matplotlib.pyplot as plt\n",
    "from matplotlib.animation import FuncAnimation\n",
    "from IPython import display\n",
    "\n",
    "# Turn off matplotlib plot in Notebook\n",
    "plt.ioff()\n",
    "\n",
    "fig, ax = plt.subplots()\n",
    "\n",
    "ax.set_xlim(minx,maxx)\n",
    "ax.set_ylim(miny,maxy)\n",
    "\n",
    "\n",
    "def animate(i):\n",
    "    ax.clear()\n",
    "    return ax.quiver(x,y,sigmasxy[:,i,0],sigmasxy[:,i,1],angles='xy', scale_units='xy', scale=1)\n",
    "\n",
    "anim = FuncAnimation(fig, animate, frames=J, interval=500, repeat=False)\n",
    "\n",
    "video = anim.to_html5_video()\n",
    "html = display.HTML(video)\n",
    "display.display(html)\n",
    "plt.close()"
   ]
  },
  {
   "cell_type": "code",
   "execution_count": null,
   "metadata": {
    "scrolled": false
   },
   "outputs": [],
   "source": [
    "# initialize with specified noise kernel\n",
    "from src.stochastics import Eulerian\n",
    "Eulerian.initialize(M,k=k)\n",
    "\n",
    "q = M.coords(jnp.vstack((np.linspace(-.5,.5,M.N),np.zeros(M.N))).T.flatten())\n",
    "v = jnp.array(jnp.vstack((np.zeros(M.N),np.ones(M.N))).T.flatten())\n",
    "p = M.flat(q,v)\n",
    "\n",
    "# integrate\n",
    "_dts = dts(n_steps=1000)\n",
    "(ts,qps,charts) = M.Eulerian(q,p,sigmas_x,sigmas_a,_dts,dWs(J,_dts))\n",
    "\n",
    "# plot\n",
    "M.newfig()\n",
    "M.plot()\n",
    "M.plot_path(zip(qps[:,0,:],charts))\n",
    "plt.plot(sigmas_x[:,0],sigmas_x[:,1],'.',color='g',markersize=15)\n",
    "plt.show()"
   ]
  },
  {
   "cell_type": "markdown",
   "metadata": {},
   "source": [
    "# Most probable paths for Arnaudon-Cruzeiro model"
   ]
  },
  {
   "cell_type": "code",
   "execution_count": null,
   "metadata": {},
   "outputs": [],
   "source": [
    "# define domain manifold\n",
    "from src.manifolds.Euclidean import *\n",
    "N = Euclidean(2)\n",
    "\n",
    "# define flow field\n",
    "u = lambda x,qp: jnp.dot(M.K(x[0],qp[0,:]),qp[1,:])\n",
    "\n",
    "# MPP Kunita equations\n",
    "from src.dynamics import MPP_Kunita\n",
    "MPP_Kunita.initialize(M,N,sigmas,u)\n",
    "\n",
    "# Curvature\n",
    "from src.Riemannian import curvature\n",
    "curvature.initialize(N)\n",
    "\n",
    "print(N)\n",
    "print(N.g((jnp.zeros(N.dim),N.chart())))"
   ]
  },
  {
   "cell_type": "code",
   "execution_count": null,
   "metadata": {},
   "outputs": [],
   "source": [
    "# Hamiltonian dynamics\n",
    "from src.dynamics import Hamiltonian\n",
    "Hamiltonian.initialize(M)\n",
    "\n",
    "# flow arbitrary points of N\n",
    "def ode_Hamiltonian_advect(c,y):\n",
    "    t,x,chart = c\n",
    "    qp, = y\n",
    "    q = qp[0]\n",
    "    p = qp[1]\n",
    "        \n",
    "    dxt = jnp.tensordot(M.K(x,q),p,(1,0)).reshape((-1,M.m))\n",
    "    return dxt\n",
    "\n",
    "M.Hamiltonian_advect = jit(lambda xs,qps,dts: integrate(ode_Hamiltonian_advect,None,\n",
    "                                                        xs[0].reshape((-1,M.m)),xs[1],dts,qps))"
   ]
  },
  {
   "cell_type": "code",
   "execution_count": null,
   "metadata": {
    "scrolled": false
   },
   "outputs": [],
   "source": [
    "# landmark flow\n",
    "_dts = dts(n_steps=100)\n",
    "(_,qps,charts_qp) = M.Hamiltonian_dynamics(q,p,_dts)\n",
    "dqps = jnp.einsum('t...,t->t...',jnp.gradient(qps,axis=0),1/_dts)\n",
    "\n",
    "# number of evaluation points\n",
    "K = 50\n",
    "x0s = jnp.vstack((np.linspace(minx+.3,maxx-.3,K),np.zeros(K)-.5)).T\n",
    "_,xs,_ = M.Hamiltonian_advect((x0s.flatten(),M.chart()),qps,_dts)\n",
    "\n",
    "N.newfig()\n",
    "N.plot()\n",
    "plt.plot(sigmas_x[:,0],sigmas_x[:,1],'.',color='g',markersize=15)\n",
    "for i in range(K):\n",
    "    x0 = x0s[i]\n",
    "    v0 = jnp.tensordot(M.K(x0,qps[0,0]),qps[0,1],(1,0))\n",
    "    (_,xx1,charts) = M.MPP_AC((x0,N.chart()),v0,qps,dqps,_dts)\n",
    "#     (_,xx1,charts) = M.MPP_AC((q[0][i*N.dim:(i+1)*N.dim],N.chart()),v[i*N.dim:(i+1)*N.dim],qps,dqps,_dts)\n",
    "\n",
    "    N.plot_path(zip(xx1[:,0,:],charts))\n",
    "    N.plot_path(zip(xs[:,i],charts),color='r')\n",
    "#     N.plot_path(zip(qps[:,0,i*N.dim:(i+1)*N.dim],charts_qp),color='r')\n",
    "\n",
    "plt.show()"
   ]
  },
  {
   "cell_type": "markdown",
   "metadata": {},
   "source": [
    "# High-dimensional Eulerian systems"
   ]
  },
  {
   "cell_type": "code",
   "execution_count": null,
   "metadata": {},
   "outputs": [],
   "source": [
    "from scipy import misc\n",
    "import jax.scipy as jsp\n",
    "\n",
    "# generate stochastic images\n",
    "global key\n",
    "keys = jax.random.split(key)\n",
    "key = keys[0]\n",
    "subkeys = keys[1:]\n",
    "%time images = jnp.sqrt(T/n_steps)*random.normal(subkeys[0],(n_steps,64,64,M.m))\n",
    "image = images[0,:,:]\n",
    "\n",
    "print(\"Size of noise basis: \", images.shape[1]*images.shape[2])\n",
    "\n",
    "# Smooth the noisy image with a 2D Gaussian smoothing kernel.\n",
    "scale = 1\n",
    "x = jnp.linspace(-3, 3, 17)\n",
    "window = jsp.stats.norm.pdf(x,0,scale) * jsp.stats.norm.pdf(x[:, None],0,scale)\n",
    "%time smooth_image = jax.vmap(lambda im: jsp.signal.convolve(im, window, mode='same'),2,2)(image)\n",
    "\n",
    "# plot\n",
    "fig, ax = plt.subplots(M.m, 2, figsize=(12, 10))\n",
    "for i in range(M.m):\n",
    "    ax[i,0].imshow(image[:,:,i], cmap='binary_r')\n",
    "    ax[i,0].set_title('original')\n",
    "    ax[i,1].imshow(smooth_image[:,:,i], cmap='binary_r')\n",
    "    ax[i,1].set_title('convolved');\n"
   ]
  },
  {
   "cell_type": "code",
   "execution_count": null,
   "metadata": {},
   "outputs": [],
   "source": [
    "X, Y = np.meshgrid(jnp.linspace(0,63,35),jnp.linspace(0,63,35))\n",
    "new_image = jax.vmap(lambda im: jsp.ndimage.map_coordinates(im.T,jnp.vstack((X.flatten(),Y.flatten())),order=1),\n",
    "                     2,1)(smooth_image).reshape(X.shape+(M.m,))\n",
    "fig, ax = plt.subplots(M.m, 2, figsize=(12, 10))\n",
    "for i in range(M.m):\n",
    "    ax[i,0].imshow(smooth_image[:,:,i], cmap='binary_r')\n",
    "    ax[i,0].set_title('convolvedl')\n",
    "    ax[i,1].imshow(new_image[:,:,i], cmap='binary_r')\n",
    "    ax[i,1].set_title('interploated');"
   ]
  },
  {
   "cell_type": "code",
   "execution_count": null,
   "metadata": {
    "scrolled": false
   },
   "outputs": [],
   "source": [
    "from matplotlib import cm\n",
    "(_,ax) = newfig3d()\n",
    "X, Y = np.meshgrid(x,x)\n",
    "surf = ax.plot_surface(X,Y,window,cmap=cm.coolwarm)\n",
    "# Customize the z axis.\n",
    "ax.set_zlim(0, .2)\n",
    "fig.colorbar(surf, shrink=0.5, aspect=5, ax=ax)\n",
    "plt.show()"
   ]
  },
  {
   "cell_type": "code",
   "execution_count": null,
   "metadata": {
    "scrolled": false
   },
   "outputs": [],
   "source": [
    "# smoothing kernel for Q^{1/2}\n",
    "kernel_dim = 17\n",
    "x = jnp.linspace(-3, 3, kernel_dim)\n",
    "window = jsp.stats.norm.pdf(x) * jsp.stats.norm.pdf(x[:, None],0)\n",
    "convolve = jax.vmap(lambda dW: jsp.signal.convolve(dW, window, mode='same'),2,2)\n",
    "interpolate = jax.vmap(lambda Q12dW,q: jsp.ndimage.map_coordinates(Q12dW.T,q.T,order=1),(2,None),1)\n",
    "\n",
    "def sde_Eulerian_infdim_noise(q,dW):\n",
    "    # multiply noise on Q^{1/2}\n",
    "    sqrtQdW = convolve(dW)\n",
    "    # evluate at x\n",
    "    dx = interpolate(sqrtQdW,q.reshape((M.N,M.m)))\n",
    "    return dx\n",
    "\n",
    "# generate noise for all t\n",
    "global key\n",
    "keys = jax.random.split(key)\n",
    "key = keys[0]\n",
    "subkeys = keys[1:]\n",
    "%time dW = jnp.sqrt(T/n_steps)*random.normal(subkeys[0],(n_steps,64,64,M.m))\n",
    "\n",
    "# evaluate sde function on position q and noise dW\n",
    "sde_Eulerian_infdim_noise(q[0],dW[0])\n",
    "%time sde_Eulerian_infdim_noise(q[0],dW[0])\n",
    "None"
   ]
  },
  {
   "cell_type": "code",
   "execution_count": null,
   "metadata": {},
   "outputs": [],
   "source": [
    "M.N = 64\n",
    "phis = jnp.linspace(0,2*jnp.pi,M.N)\n",
    "q = M.coords(jnp.vstack((jnp.cos(phis),jnp.sin(phis))).T.flatten())\n",
    "\n",
    "# # plot\n",
    "# M.newfig()\n",
    "# M.plot()\n",
    "# M.plotx(q)\n",
    "# plt.show()"
   ]
  },
  {
   "cell_type": "code",
   "execution_count": null,
   "metadata": {},
   "outputs": [],
   "source": [
    "# generate noise for all t\n",
    "global key\n",
    "keys = jax.random.split(key)\n",
    "key = keys[0]\n",
    "subkeys = keys[1:]\n",
    "dW = jnp.sqrt(T/n_steps)*random.normal(subkeys[0],(n_steps,64,64,M.m))\n",
    "\n",
    "coords_to_pixels = lambda q: (24*q.reshape((-1,M.m))+jnp.array([32,32])[np.newaxis,:])\n",
    "\n",
    "# smoothing kernel for Q^{1/2}\n",
    "kernel_dim = 17\n",
    "x = jnp.linspace(-3, 3, kernel_dim)\n",
    "window = lambda amp,scale: amp*scale*jnp.sqrt(2*jnp.pi)*jsp.stats.norm.pdf(x,0,scale) * jsp.stats.norm.pdf(x[:, None],0,scale)\n",
    "# convolve = jax.vmap(lambda amp,scale,dW: jsp.signal.convolve(dW, window(amp,scale), mode='same'),(None,None,2),2)\n",
    "convolve = jax.vmap(jax.vmap(lambda amp,scale,dW: jsp.signal.convolve(dW, window(amp,scale), mode='same'),(None,None,2),2),(None,None,0),0)\n",
    "interpolate = jax.vmap(lambda Q12dW,q: jsp.ndimage.map_coordinates(Q12dW.T,coords_to_pixels(q).T,order=1),(2,None),1)\n",
    "    \n",
    "def sde_Eulerian_infdim_noise(c,y):\n",
    "    t,q,_ = c\n",
    "    dt,sqrtQdW = y\n",
    "\n",
    "    X = None # to be implemented\n",
    "    det = jnp.zeros_like(q)\n",
    "    # evaluate at x\n",
    "    sto = interpolate(sqrtQdW,q.reshape((M.N,M.m))).flatten()\n",
    "    return (det,sto,X)\n",
    "\n",
    "Eulerian_q = lambda q,dts,dW: integrate_sde(sde_Eulerian_infdim_noise,integrator_ito,None,q[0],q[1],dts,dW)\n",
    "Eulerian = lambda q,amp,scale,dts,dW: Eulerian_q(q,dts,convolve(amp,scale,dW))[0:3]\n",
    "    \n",
    "# integrate\n",
    "amp = .1\n",
    "scale = 10\n",
    "Eulerian(q,amp,scale,dts(),dW)\n",
    "%time (ts,qs,charts) = Eulerian(q,amp,scale,dts(),dW)\n",
    "print(qs.shape)\n",
    "\n",
    "# # plot\n",
    "# M.newfig()\n",
    "# M.plot()\n",
    "# M.plot_path(zip(qs,charts))\n",
    "# plt.show()"
   ]
  },
  {
   "cell_type": "code",
   "execution_count": null,
   "metadata": {},
   "outputs": [],
   "source": [
    "import matplotlib.pyplot as plt\n",
    "from matplotlib.animation import FuncAnimation\n",
    "from IPython import display\n",
    "\n",
    "# Turn off matplotlib plot in Notebook\n",
    "plt.ioff()\n",
    "\n",
    "fig, ax = plt.subplots()\n",
    "\n",
    "line, = ax.plot([],'*')\n",
    "\n",
    "ax.set_xlim(-1.2, 1.2)\n",
    "ax.set_ylim(-1.2, 1.2)\n",
    "\n",
    "\n",
    "def animate(i):\n",
    "    line.set_data((qs[i].reshape((-1,M.m))[:,0],qs[i].reshape((-1,M.m))[:,1]))\n",
    "    return line\n",
    "\n",
    "# animate(0)\n",
    "# plt.show()\n",
    "\n",
    "anim = FuncAnimation(fig, animate, frames=n_steps, interval=100)\n",
    "\n",
    "video = anim.to_html5_video()\n",
    "html = display.HTML(video)\n",
    "display.display(html)\n",
    "plt.close()"
   ]
  },
  {
   "cell_type": "code",
   "execution_count": null,
   "metadata": {
    "scrolled": false
   },
   "outputs": [],
   "source": [
    "# # checks\n",
    "# N.newfig()\n",
    "# N.plot()\n",
    "# qs = qps[:,0,:].reshape((-1,M.N,M.m))\n",
    "# qsint = (qps[0][jnp.newaxis]+jnp.cumsum(np.einsum('t...,t->t...',dqps,_dts),axis=0))[:,0,:].reshape((-1,M.N,M.m))\n",
    "# for i in range(M.N):\n",
    "#     plt.plot(qs[:,i,0],qs[:,i,1])\n",
    "#     plt.plot(qsint[:,i,0],qsint[:,i,1],'*')    \n",
    "# plt.show()\n",
    "\n",
    "# N.newfig()\n",
    "# N.plot()\n",
    "\n",
    "# qs = qps[:,0,:].reshape((-1,M.N,M.m))\n",
    "# qsint = (qps[0][jnp.newaxis]+jnp.cumsum(np.einsum('t...,t->t...',dqps,_dts),axis=0))[:,0,:].reshape((-1,M.N,M.m))\n",
    "# for i in range(M.N):\n",
    "#     (_,xx1,charts) = M.MPP_AC((q[0][i*N.dim:(i+1)*N.dim],N.chart()),v[i*N.dim:(i+1)*N.dim],qps,dqps,_dts)\n",
    "#     xs = xx1[:,0]\n",
    "#     x1s = xx1[:,1]\n",
    "#     dxs = jnp.einsum('t...,t->t...',jnp.gradient(xs,axis=0),1/_dts)\n",
    "    \n",
    "#     xsint1 = xs[0][jnp.newaxis]+jnp.cumsum(np.einsum('t...,t->t...',dxs,_dts),axis=0)\n",
    "#     xsint2 = xs[0][jnp.newaxis]+jnp.cumsum(np.einsum('t...,t->t...',x1s,_dts),axis=0)\n",
    "    \n",
    "#     plt.plot(xs[:,0],xs[:,1])\n",
    "#     plt.plot(xsint1[:,0],xsint1[:,1],'x')    \n",
    "#     plt.plot(xsint2[:,0],xsint2[:,1],'*')    \n",
    "# plt.show()"
   ]
  }
 ],
 "metadata": {
  "kernelspec": {
   "display_name": "Python 3 (ipykernel)",
   "language": "python",
   "name": "python3"
  },
  "language_info": {
   "codemirror_mode": {
    "name": "ipython",
    "version": 3
   },
   "file_extension": ".py",
   "mimetype": "text/x-python",
   "name": "python",
   "nbconvert_exporter": "python",
   "pygments_lexer": "ipython3",
   "version": "3.9.13"
  }
 },
 "nbformat": 4,
 "nbformat_minor": 1
}
