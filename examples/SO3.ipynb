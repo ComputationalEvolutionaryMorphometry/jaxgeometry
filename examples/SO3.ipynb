{
 "cells": [
  {
   "cell_type": "code",
   "execution_count": null,
   "metadata": {
    "ExecuteTime": {
     "end_time": "2021-02-18T11:05:48.736791Z",
     "start_time": "2021-02-18T11:05:48.732894Z"
    }
   },
   "outputs": [],
   "source": [
    "## This file is part of Jax Geometry\n",
    "#\n",
    "# Copyright (C) 2021, Stefan Sommer (sommer@di.ku.dk)\n",
    "# https://bitbucket.org/stefansommer/jaxgeometry\n",
    "#\n",
    "# Jax Geometry is free software: you can redistribute it and/or modify\n",
    "# it under the terms of the GNU General Public License as published by\n",
    "# the Free Software Foundation, either version 3 of the License, or\n",
    "# (at your option) any later version.\n",
    "#\n",
    "# Jax Geometry is distributed in the hope that it will be useful,\n",
    "# but WITHOUT ANY WARRANTY; without even the implied warranty of\n",
    "# MERCHANTABILITY or FITNESS FOR A PARTICULAR PURPOSE.  See the\n",
    "# GNU General Public License for more details.\n",
    "#\n",
    "# You should have received a copy of the GNU General Public License\n",
    "# along with Jax Geometry. If not, see <http://www.gnu.org/licenses/>.\n",
    "#"
   ]
  },
  {
   "cell_type": "markdown",
   "metadata": {},
   "source": [
    "# SO(3) group operations and dynamics"
   ]
  },
  {
   "cell_type": "code",
   "execution_count": null,
   "metadata": {},
   "outputs": [],
   "source": [
    "%load_ext autoreload\n",
    "%autoreload 2"
   ]
  },
  {
   "cell_type": "code",
   "execution_count": null,
   "metadata": {
    "ExecuteTime": {
     "end_time": "2021-02-18T11:06:54.715340Z",
     "start_time": "2021-02-18T11:05:48.760484Z"
    }
   },
   "outputs": [],
   "source": [
    "from jaxgeometry.groups.SON import *\n",
    "G = SON(3)\n",
    "print(G)\n",
    "from jaxgeometry.plotting import *\n",
    "#%matplotlib notebook"
   ]
  },
  {
   "cell_type": "code",
   "execution_count": null,
   "metadata": {
    "ExecuteTime": {
     "end_time": "2021-02-18T11:07:03.517081Z",
     "start_time": "2021-02-18T11:06:54.718336Z"
    }
   },
   "outputs": [],
   "source": [
    "# visualization\n",
    "newfig()\n",
    "G.plotg(G.e)\n",
    "plt.show()\n",
    "\n",
    "# geodesics in three directions\n",
    "v=jnp.array([1,0,0])\n",
    "xiv=G.VtoLA(v)\n",
    "(ts,gsv) = G.expt(xiv)\n",
    "newfig()\n",
    "G.plot_path(gsv)\n",
    "plt.show()\n",
    "\n",
    "v=jnp.array([0,1,0])\n",
    "xiv=G.VtoLA(v)\n",
    "(ts,gsv) = G.expt(xiv)\n",
    "newfig()\n",
    "G.plot_path(gsv)\n",
    "plt.show()\n",
    "\n",
    "v=jnp.array([0,0,1])\n",
    "xiv=G.VtoLA(v)\n",
    "(ts,gsv) = G.expt(xiv)\n",
    "newfig()\n",
    "G.plot_path(gsv)\n",
    "plt.show()"
   ]
  },
  {
   "cell_type": "code",
   "execution_count": null,
   "metadata": {
    "ExecuteTime": {
     "end_time": "2021-02-18T11:07:10.319275Z",
     "start_time": "2021-02-18T11:07:03.520364Z"
    }
   },
   "outputs": [],
   "source": [
    "# plot path on S2\n",
    "from jaxgeometry.manifolds.S2 import *\n",
    "M = S2()\n",
    "print(M)\n",
    "\n",
    "# plot\n",
    "newfig()\n",
    "M.plot()\n",
    "x = M.F(M.coords([0.,0.]))\n",
    "M.plot_path(M.acts(gsv,x))\n",
    "plt.show()"
   ]
  },
  {
   "cell_type": "code",
   "execution_count": null,
   "metadata": {
    "ExecuteTime": {
     "end_time": "2021-02-18T11:08:17.862357Z",
     "start_time": "2021-02-18T11:07:10.321261Z"
    }
   },
   "outputs": [],
   "source": [
    "# setup for testing different versions of dynamics\n",
    "q = jnp.array([1e-3,0.,0.])\n",
    "g = G.psi(q)\n",
    "v = jnp.array([0.,1.,1.])\n",
    "\n",
    "from jaxgeometry.group import invariant_metric\n",
    "invariant_metric.initialize(G)\n",
    "p = G.sharppsi(q,v)\n",
    "mu = G.sharpV(v)\n",
    "print(p)\n",
    "print(mu)\n",
    "\n",
    "from jaxgeometry.group import energy\n",
    "energy.initialize(G)"
   ]
  },
  {
   "cell_type": "code",
   "execution_count": null,
   "metadata": {
    "ExecuteTime": {
     "end_time": "2021-02-18T11:08:36.457769Z",
     "start_time": "2021-02-18T11:08:17.864547Z"
    }
   },
   "outputs": [],
   "source": [
    "# Euler-Poincare dynamics\n",
    "from jaxgeometry.group import EulerPoincare\n",
    "EulerPoincare.initialize(G)# Euler-Poincare dynamics\n",
    "\n",
    "# geodesic\n",
    "(ts,gsv) = G.ExpEPt(G.psi(q),v)\n",
    "newfig()\n",
    "G.plot_path(gsv)\n",
    "plt.show()\n",
    "(ts,musv) = G.EP(mu)\n",
    "xisv = [G.invFl(mu) for mu in musv]\n",
    "print(\"Energy: \",np.array([G.l(xi) for xi in xisv]))\n",
    "print(\"Orthogonality: \",np.array([np.linalg.norm(np.dot(g,g.T)-np.eye(int(np.sqrt(G.emb_dim))),np.inf) for g in gsv]))\n",
    "\n",
    "# on S2\n",
    "newfig()\n",
    "M.plot(rotate=(30,-15))\n",
    "x = jnp.array([0,0,1])\n",
    "M.plot_path(M.acts(gsv,x))\n",
    "plt.show()"
   ]
  },
  {
   "cell_type": "code",
   "execution_count": null,
   "metadata": {
    "ExecuteTime": {
     "end_time": "2021-02-18T11:08:50.590252Z",
     "start_time": "2021-02-18T11:08:36.459751Z"
    }
   },
   "outputs": [],
   "source": [
    "# Lie-Poission dynamics\n",
    "from jaxgeometry.group import LiePoisson\n",
    "LiePoisson.initialize(G)\n",
    "\n",
    "# geodesic\n",
    "(ts,gsv) = G.ExpLPt(G.psi(q),v)\n",
    "newfig()\n",
    "G.plot_path(gsv)\n",
    "plt.show()\n",
    "(ts,musv) = G.LP(mu)\n",
    "print(\"Energy: \",np.array([G.Hminus(mu) for mu in musv]))\n",
    "print(\"Orthogonality: \",np.array([np.linalg.norm(np.dot(g,g.T)-np.eye(int(np.sqrt(G.dim))),np.inf) for g in gsv]))"
   ]
  },
  {
   "cell_type": "code",
   "execution_count": null,
   "metadata": {
    "ExecuteTime": {
     "end_time": "2021-02-18T11:12:05.111339Z",
     "start_time": "2021-02-18T11:08:50.592810Z"
    }
   },
   "outputs": [],
   "source": [
    "# Hamiltonian dynamics\n",
    "from jaxgeometry.dynamics import Hamiltonian\n",
    "Hamiltonian.initialize(G)\n",
    "\n",
    "# test Hamiltionian and gradients\n",
    "print(p)\n",
    "print(G.H(q,p))\n",
    "\n",
    "# geodesic\n",
    "qsv,_ = G.Exp_Hamiltoniant((q,None),p)\n",
    "gsv = np.array([G.psi(q) for q in qsv])\n",
    "newfig()\n",
    "G.plot_path(gsv)\n",
    "plt.show()\n",
    "(ts,qpsv,_) = G.Hamiltonian_dynamics((q,None),p,dts())\n",
    "psv = qpsv[:,1,:]\n",
    "print(\"Energy: \",np.array([G.H(q,p) for (q,p) in zip(qsv,psv)]))"
   ]
  },
  {
   "cell_type": "code",
   "execution_count": null,
   "metadata": {},
   "outputs": [],
   "source": []
  }
 ],
 "metadata": {
  "kernelspec": {
   "display_name": "Python 3 (ipykernel)",
   "language": "python",
   "name": "python3"
  },
  "language_info": {
   "codemirror_mode": {
    "name": "ipython",
    "version": 3
   },
   "file_extension": ".py",
   "mimetype": "text/x-python",
   "name": "python",
   "nbconvert_exporter": "python",
   "pygments_lexer": "ipython3",
   "version": "3.12.1"
  }
 },
 "nbformat": 4,
 "nbformat_minor": 4
}
