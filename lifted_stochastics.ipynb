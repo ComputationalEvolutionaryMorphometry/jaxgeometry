{
 "cells": [
  {
   "cell_type": "code",
   "execution_count": null,
   "metadata": {},
   "outputs": [],
   "source": [
    "## This file is part of Jax Geometry\n",
    "#\n",
    "# Copyright (C) 2021, Stefan Sommer (sommer@di.ku.dk)\n",
    "# https://bitbucket.org/stefansommer/jaxgeometry\n",
    "#\n",
    "# Jax Geometry is free software: you can redistribute it and/or modify\n",
    "# it under the terms of the GNU General Public License as published by\n",
    "# the Free Software Foundation, either version 3 of the License, or\n",
    "# (at your option) any later version.\n",
    "#\n",
    "# Jax Geometry is distributed in the hope that it will be useful,\n",
    "# but WITHOUT ANY WARRANTY; without even the implied warranty of\n",
    "# MERCHANTABILITY or FITNESS FOR A PARTICULAR PURPOSE.  See the\n",
    "# GNU General Public License for more details.\n",
    "#\n",
    "# You should have received a copy of the GNU General Public License\n",
    "# along with Jax Geometry. If not, see <http://www.gnu.org/licenses/>.\n",
    "#"
   ]
  },
  {
   "cell_type": "markdown",
   "metadata": {
    "collapsed": true
   },
   "source": [
    "# Horizontal/vertical splittings and lifted sub-elliptic diffusions"
   ]
  },
  {
   "cell_type": "code",
   "execution_count": null,
   "metadata": {},
   "outputs": [],
   "source": [
    "%load_ext autoreload\n",
    "%autoreload 2"
   ]
  },
  {
   "cell_type": "code",
   "execution_count": null,
   "metadata": {},
   "outputs": [],
   "source": [
    "## SO(3)\n",
    "from src.groups.SON import *\n",
    "G = SON(3)\n",
    "print(G)\n",
    "\n",
    "# SO(3) acts on S^2\n",
    "from src.manifolds.S2 import *\n",
    "M = S2()\n",
    "print(M)\n",
    "\n",
    "from src.plotting import *"
   ]
  },
  {
   "cell_type": "code",
   "execution_count": null,
   "metadata": {},
   "outputs": [],
   "source": [
    "from src.group import invariant_metric\n",
    "invariant_metric.initialize(G)\n",
    "\n",
    "from src.group import energy\n",
    "energy.initialize(G)\n",
    "\n",
    "from src.group.quotient import *"
   ]
  },
  {
   "cell_type": "code",
   "execution_count": null,
   "metadata": {},
   "outputs": [],
   "source": [
    "q = jnp.array([1e-3,0.,0.])\n",
    "g = G.psi(q)\n",
    "v = jnp.array([0.,1.,1.])\n",
    "p = G.sharppsi(q,v)\n",
    "\n",
    "# base point on S2\n",
    "x = M.coords(jnp.array([0.,0.]))\n",
    "# projection\n",
    "proj = lambda g: M.act(g,M.F(x))"
   ]
  },
  {
   "cell_type": "code",
   "execution_count": null,
   "metadata": {
    "scrolled": false
   },
   "outputs": [],
   "source": [
    "# sample Brownian paths on SO(3) and S^2. Note bi-invariant metric let's process descend to Brownian motion on S^2\n",
    "from src.stochastics import Brownian_inv\n",
    "Brownian_inv.initialize(G)\n",
    "\n",
    "sigma = jnp.eye(G.dim) # diffusivity / metric\n",
    "K = 1\n",
    "_dts = dts(n_steps=1000)\n",
    "gss = np.zeros((K,_dts.shape[0])+g.shape)\n",
    "for i in range(K):\n",
    "    (ts,gs,_) = G.Brownian_inv(g,_dts,dWs(G.dim,_dts),sigma)\n",
    "    gss[i] = gs\n",
    "\n",
    "# plot samples\n",
    "newfig()\n",
    "for i in range(K):\n",
    "    G.plot_path(gs,linewidth=0.1,alpha=0.1)\n",
    "plt.show()\n",
    "\n",
    "# on S2\n",
    "gss_M = np.zeros((K,_dts.shape[0],M.emb_dim,))\n",
    "newfig()\n",
    "M.plot()\n",
    "for i in range(K):\n",
    "    gss_M[i] = M.acts(gss[i],M.F(x))\n",
    "    M.plot_path(gss_M[i])\n",
    "plt.show()"
   ]
  },
  {
   "cell_type": "code",
   "execution_count": null,
   "metadata": {
    "scrolled": false
   },
   "outputs": [],
   "source": [
    "# truncated SO(3) Brownian motion\n",
    "sde_Brownian_inv_horz = get_sde_horz(G.sde_Brownian_inv,proj,G,M)\n",
    "sde_Brownian_inv_fiber = get_sde_fiber(G.sde_Brownian_inv,proj,G,M)\n",
    "Brownian_inv_horz = lambda g,dts,dWt,sigma=jnp.eye(G.dim): integrate_sde(sde_Brownian_inv_horz,\n",
    "                                                  integrator_stratonovich,\n",
    "                                                  None,g,None,dts,dWt,sigma)[0:3]\n",
    "Brownian_inv_fiber = lambda g,dts,dWt,sigma=jnp.eye(G.dim): integrate_sde(sde_Brownian_inv_fiber,\n",
    "                                                  integrator_stratonovich,\n",
    "                                                  None,g,None,dts,dWt,sigma)[0:3]\n",
    "\n",
    "\n",
    "# make simulations, horizontal\n",
    "K = 1\n",
    "_dts = dts(n_steps=1000)\n",
    "gss = np.zeros((K,_dts.shape[0])+g.shape)\n",
    "for i in range(K):\n",
    "    (ts,gs,_) = Brownian_inv_horz(g,_dts,dWs(G.dim,_dts),sigma)\n",
    "    gss[i] = gs\n",
    "\n",
    "# plot samples\n",
    "newfig()\n",
    "for i in range(K):\n",
    "    G.plot_path(gs,linewidth=0.1,alpha=0.1)\n",
    "plt.show()\n",
    "\n",
    "# on S2\n",
    "gss_M = np.zeros((K,_dts.shape[0],M.emb_dim,))\n",
    "newfig()\n",
    "M.plot()\n",
    "for i in range(K):\n",
    "    gss_M[i] = M.acts(gss[i],M.F(x))\n",
    "    M.plot_path(gss_M[i])\n",
    "plt.show()\n",
    "\n",
    "# make simulations, vertical\n",
    "gss = np.zeros((K,_dts.shape[0])+g.shape)\n",
    "for i in range(K):\n",
    "    (ts,gs,_) = Brownian_inv_fiber(g,_dts,dWs(G.dim,_dts),sigma)\n",
    "    gss[i] = gs\n",
    "\n",
    "# plot samples\n",
    "newfig()\n",
    "for i in range(K):\n",
    "    G.plot_path(gs,linewidth=0.1,alpha=0.1)\n",
    "plt.show()\n",
    "\n",
    "# on S2\n",
    "gss_M = np.zeros((K,_dts.shape[0],M.emb_dim,))\n",
    "newfig()\n",
    "M.plot()\n",
    "for i in range(K):\n",
    "    gss_M[i] = M.acts(gss[i],M.F(x))\n",
    "    M.plot_path(gss_M[i])\n",
    "plt.show()"
   ]
  },
  {
   "cell_type": "code",
   "execution_count": null,
   "metadata": {
    "scrolled": false
   },
   "outputs": [],
   "source": [
    "# lift from S^2 to SO(3)\n",
    "\n",
    "# S^2 Brownian motion\n",
    "from src.Riemannian import metric\n",
    "metric.initialize(M)\n",
    "from src.stochastics import Brownian_coords\n",
    "Brownian_coords.initialize(M)\n",
    "\n",
    "sde_Brownian_inv_lifted = get_sde_lifted(M.sde_Brownian_coords,proj,G,M)\n",
    "Brownian_inv_lifted = lambda g,dts,dWt,sigma=jnp.eye(G.dim): integrate_sde(sde_Brownian_inv_lifted,\n",
    "                                                  integrator_stratonovich,\n",
    "                                                  None,g,x[1],dts,dWt,sigma,1.)[0:3]\n",
    "\n",
    "# make simulations\n",
    "K = 1\n",
    "_dts = dts(n_steps=1000)\n",
    "gss = np.zeros((K,_dts.shape[0])+g.shape)\n",
    "for i in range(K):\n",
    "    (ts,gs,_) = Brownian_inv_lifted(g,_dts,dWs(M.dim,_dts),sigma)\n",
    "    gss[i] = gs\n",
    "\n",
    "# plot samples\n",
    "newfig()\n",
    "for i in range(K):\n",
    "    G.plot_path(gs,linewidth=0.1,alpha=0.1)\n",
    "plt.show()\n",
    "\n",
    "# on S2\n",
    "gss_M = np.zeros((K,_dts.shape[0],M.emb_dim,))\n",
    "newfig()\n",
    "M.plot()\n",
    "for i in range(K):\n",
    "    gss_M[i] = M.acts(gss[i],M.F(x))\n",
    "    M.plot_path(gss_M[i])\n",
    "plt.show()"
   ]
  },
  {
   "cell_type": "code",
   "execution_count": null,
   "metadata": {},
   "outputs": [],
   "source": []
  }
 ],
 "metadata": {
  "kernelspec": {
   "display_name": "Python 3 (ipykernel)",
   "language": "python",
   "name": "python3"
  },
  "language_info": {
   "codemirror_mode": {
    "name": "ipython",
    "version": 3
   },
   "file_extension": ".py",
   "mimetype": "text/x-python",
   "name": "python",
   "nbconvert_exporter": "python",
   "pygments_lexer": "ipython3",
   "version": "3.9.14"
  }
 },
 "nbformat": 4,
 "nbformat_minor": 1
}
